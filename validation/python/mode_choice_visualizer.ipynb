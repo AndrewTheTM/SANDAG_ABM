{
 "cells": [
  {
   "cell_type": "markdown",
   "metadata": {},
   "source": [
    "# SANDAG Mode Choice Diagnostic Visualizer\n",
    "\n",
    "Welcome to the SANDAG mode-choice visualization notebook, built by RSG Inc. in collaboration with SANDAG. This notebook is configured to work with standard output files from CT-RAMP and may be updated in the future to additionally work with ActivitySim outputs.\n",
    "\n",
    "## Setup\n",
    "\n",
    "This notebook was written in Python 3 syntax and works with any Python version 3.6 or greater. Before running this notebook, please ensure you have the latest versions of the following packages installed on your system:\n",
    "\n",
    "- jupyter\n",
    "- pandas\n",
    "- numpy\n",
    "- geopandas\n",
    "- folium\n",
    "- ipywidgets\n",
    "\n",
    "Depending on your Python environment, you can uncomment and run either of the following cells:"
   ]
  },
  {
   "cell_type": "code",
   "execution_count": 1,
   "metadata": {},
   "outputs": [],
   "source": [
    "# !pip install jupyter pandas numpy geopandas folium ipywidgets"
   ]
  },
  {
   "cell_type": "code",
   "execution_count": 2,
   "metadata": {},
   "outputs": [],
   "source": [
    "# !conda install jupyter pandas numpy geopandas folium ipywidgets -c conda-forge"
   ]
  },
  {
   "cell_type": "markdown",
   "metadata": {},
   "source": [
    "Once the dependencies are installed, run the following cell, or select `Kernel > Restart & Run All`.\n",
    "\n",
    "## Configuration\n",
    "\n",
    "Configure your diagnostic scenario in the text boxes. You may need to change the default values for your scenario, but many are already set to standard CT-RAMP values.\n",
    "\n",
    "NOTE: For comma-separated labels (`Auto Labels`, `Mode Labels`, etc.), your input list must match the _sorted_ list of corresponding values in the input file. E.g. if the 'autos' column in the household file contains the possible values of 0, 1, and 2, then `Auto Labels` should have three entries.\n",
    "\n",
    "The `Validate Configs` button will load the input data and produce a dynamic HTML map of the input region. You can find this map saved in the same directory as this notebook and view it in your browser. It shows every zone in the region and can help when choosing filter zones for the following step.\n",
    "\n",
    "## Zone Exploration\n",
    "\n",
    "After validating the configuration inputs,  you will be able to explore the data in an interactive zone map. Choose filters on the tour data using the dropdown menus and click `Show/Update Map`. If the map is too large to render inline, click `Save Map` to save the results to your computer."
   ]
  },
  {
   "cell_type": "code",
   "execution_count": 3,
   "metadata": {
    "scrolled": false
   },
   "outputs": [
    {
     "data": {
      "application/vnd.jupyter.widget-view+json": {
       "model_id": "153b017c4a124782a7f6a70f545aa146",
       "version_major": 2,
       "version_minor": 0
      },
      "text/plain": [
       "VBox(children=(Text(value='output/indivTourData_6.csv', description='Tour File -', layout=Layout(width='initia…"
      ]
     },
     "metadata": {},
     "output_type": "display_data"
    },
    {
     "data": {
      "application/vnd.jupyter.widget-view+json": {
       "model_id": "342774f24bee4304a9c32d59f7e86e44",
       "version_major": 2,
       "version_minor": 0
      },
      "text/plain": [
       "HBox(children=(Button(description='Validate Configs', style=ButtonStyle()),))"
      ]
     },
     "metadata": {},
     "output_type": "display_data"
    },
    {
     "data": {
      "application/vnd.jupyter.widget-view+json": {
       "model_id": "8f70f9943856406da6b08e56a5d56777",
       "version_major": 2,
       "version_minor": 0
      },
      "text/plain": [
       "Output()"
      ]
     },
     "metadata": {},
     "output_type": "display_data"
    },
    {
     "data": {
      "application/vnd.jupyter.widget-view+json": {
       "model_id": "095969599f3d42d098a90479e28f04cf",
       "version_major": 2,
       "version_minor": 0
      },
      "text/plain": [
       "Output()"
      ]
     },
     "metadata": {},
     "output_type": "display_data"
    }
   ],
   "source": [
    "%run mc_utils.py"
   ]
  },
  {
   "cell_type": "code",
   "execution_count": null,
   "metadata": {},
   "outputs": [],
   "source": []
  }
 ],
 "metadata": {
  "kernelspec": {
   "display_name": "Python 3",
   "language": "python",
   "name": "python3"
  },
  "language_info": {
   "codemirror_mode": {
    "name": "ipython",
    "version": 3
   },
   "file_extension": ".py",
   "mimetype": "text/x-python",
   "name": "python",
   "nbconvert_exporter": "python",
   "pygments_lexer": "ipython3",
   "version": "3.7.3"
  }
 },
 "nbformat": 4,
 "nbformat_minor": 4
}
