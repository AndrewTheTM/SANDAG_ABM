{
 "cells": [
  {
   "cell_type": "markdown",
   "metadata": {
    "toc": true
   },
   "source": [
    "<h1>Table of Contents<span class=\"tocSkip\"></span></h1>\n",
    "<div class=\"toc\"><ul class=\"toc-item\"><li><span><a href=\"#Compare-base-data\" data-toc-modified-id=\"Compare-base-data-1\"><span class=\"toc-item-num\">1&nbsp;&nbsp;</span>Compare base data</a></span><ul class=\"toc-item\"><li><span><a href=\"#Zone-Schemas\" data-toc-modified-id=\"Zone-Schemas-1.1\"><span class=\"toc-item-num\">1.1&nbsp;&nbsp;</span>Zone Schemas</a></span></li><li><span><a href=\"#Border-Crossings\" data-toc-modified-id=\"Border-Crossings-1.2\"><span class=\"toc-item-num\">1.2&nbsp;&nbsp;</span>Border Crossings</a></span></li></ul></li><li><span><a href=\"#Tour-Scheduling\" data-toc-modified-id=\"Tour-Scheduling-2\"><span class=\"toc-item-num\">2&nbsp;&nbsp;</span>Tour Scheduling</a></span></li><li><span><a href=\"#Tour-OD-Choice\" data-toc-modified-id=\"Tour-OD-Choice-3\"><span class=\"toc-item-num\">3&nbsp;&nbsp;</span>Tour OD Choice</a></span><ul class=\"toc-item\"><li><span><a href=\"#Tour-Origin\" data-toc-modified-id=\"Tour-Origin-3.1\"><span class=\"toc-item-num\">3.1&nbsp;&nbsp;</span>Tour Origin</a></span></li><li><span><a href=\"#Tour-Destination-p-MSA-by-Origin\" data-toc-modified-id=\"Tour-Destination-p-MSA-by-Origin-3.2\"><span class=\"toc-item-num\">3.2&nbsp;&nbsp;</span>Tour Destination p-MSA by Origin</a></span></li><li><span><a href=\"#Tour-OD-Dist-by-Tour-OD-Count-Difference\" data-toc-modified-id=\"Tour-OD-Dist-by-Tour-OD-Count-Difference-3.3\"><span class=\"toc-item-num\">3.3&nbsp;&nbsp;</span>Tour OD Dist by Tour OD Count Difference</a></span></li><li><span><a href=\"#Tour-Distance-by-Tour-Mode\" data-toc-modified-id=\"Tour-Distance-by-Tour-Mode-3.4\"><span class=\"toc-item-num\">3.4&nbsp;&nbsp;</span>Tour Distance by Tour Mode</a></span></li><li><span><a href=\"#Tour-Distance-by-Tour-Mode-by-POE\" data-toc-modified-id=\"Tour-Distance-by-Tour-Mode-by-POE-3.5\"><span class=\"toc-item-num\">3.5&nbsp;&nbsp;</span>Tour Distance by Tour Mode by POE</a></span></li><li><span><a href=\"#Tour-Distance-by-Intra-MAZ-Tour-Flag\" data-toc-modified-id=\"Tour-Distance-by-Intra-MAZ-Tour-Flag-3.6\"><span class=\"toc-item-num\">3.6&nbsp;&nbsp;</span>Tour Distance by Intra-MAZ Tour Flag</a></span></li></ul></li><li><span><a href=\"#Tour-Mode-Choice\" data-toc-modified-id=\"Tour-Mode-Choice-4\"><span class=\"toc-item-num\">4&nbsp;&nbsp;</span>Tour Mode Choice</a></span><ul class=\"toc-item\"><li><span><a href=\"#Tour-Mode-by-POE\" data-toc-modified-id=\"Tour-Mode-by-POE-4.1\"><span class=\"toc-item-num\">4.1&nbsp;&nbsp;</span>Tour Mode by POE</a></span></li><li><span><a href=\"#Tour-Mode-by-Tour-Purpose\" data-toc-modified-id=\"Tour-Mode-by-Tour-Purpose-4.2\"><span class=\"toc-item-num\">4.2&nbsp;&nbsp;</span>Tour Mode by Tour Purpose</a></span></li></ul></li><li><span><a href=\"#Stop-Frequency\" data-toc-modified-id=\"Stop-Frequency-5\"><span class=\"toc-item-num\">5&nbsp;&nbsp;</span>Stop Frequency</a></span></li><li><span><a href=\"#Trip-Purpose\" data-toc-modified-id=\"Trip-Purpose-6\"><span class=\"toc-item-num\">6&nbsp;&nbsp;</span>Trip Purpose</a></span><ul class=\"toc-item\"><li><span><a href=\"#Trips-per-Tour-by-Trip-Purpose\" data-toc-modified-id=\"Trips-per-Tour-by-Trip-Purpose-6.1\"><span class=\"toc-item-num\">6.1&nbsp;&nbsp;</span>Trips per Tour by Trip Purpose</a></span></li></ul></li><li><span><a href=\"#Trip-Scheduling\" data-toc-modified-id=\"Trip-Scheduling-7\"><span class=\"toc-item-num\">7&nbsp;&nbsp;</span>Trip Scheduling</a></span></li><li><span><a href=\"#Trip-Destination\" data-toc-modified-id=\"Trip-Destination-8\"><span class=\"toc-item-num\">8&nbsp;&nbsp;</span>Trip Destination</a></span><ul class=\"toc-item\"><li><span><a href=\"#Trip-ODs\" data-toc-modified-id=\"Trip-ODs-8.1\"><span class=\"toc-item-num\">8.1&nbsp;&nbsp;</span>Trip ODs</a></span></li><li><span><a href=\"#Trip-Distance\" data-toc-modified-id=\"Trip-Distance-8.2\"><span class=\"toc-item-num\">8.2&nbsp;&nbsp;</span>Trip Distance</a></span></li></ul></li><li><span><a href=\"#Trip-Mode\" data-toc-modified-id=\"Trip-Mode-9\"><span class=\"toc-item-num\">9&nbsp;&nbsp;</span>Trip Mode</a></span><ul class=\"toc-item\"><li><span><a href=\"#Trip-Mode-by-Tour-Mode\" data-toc-modified-id=\"Trip-Mode-by-Tour-Mode-9.1\"><span class=\"toc-item-num\">9.1&nbsp;&nbsp;</span>Trip Mode by Tour Mode</a></span></li><li><span><a href=\"#Trip-Distance-by-Trip-Mode\" data-toc-modified-id=\"Trip-Distance-by-Trip-Mode-9.2\"><span class=\"toc-item-num\">9.2&nbsp;&nbsp;</span>Trip Distance by Trip Mode</a></span></li></ul></li><li><span><a href=\"#Exploration\" data-toc-modified-id=\"Exploration-10\"><span class=\"toc-item-num\">10&nbsp;&nbsp;</span>Exploration</a></span></li></ul></div>"
   ]
  },
  {
   "cell_type": "code",
   "execution_count": 1,
   "metadata": {},
   "outputs": [
    {
     "data": {
      "text/html": [
       "<script>\n",
       "code_show=true; \n",
       "function code_toggle() {\n",
       " if (code_show){\n",
       " $('div.input').hide();\n",
       " } else {\n",
       " $('div.input').show();\n",
       " }\n",
       " code_show = !code_show\n",
       "} \n",
       "$( document ).ready(code_toggle);\n",
       "</script>\n",
       "<form action=\"javascript:code_toggle()\"><input type=\"submit\" value=\"Click here to toggle on/off the raw code.\"></form>"
      ],
      "text/plain": [
       "<IPython.core.display.HTML object>"
      ]
     },
     "execution_count": 1,
     "metadata": {},
     "output_type": "execute_result"
    }
   ],
   "source": [
    "from IPython.display import HTML\n",
    "\n",
    "HTML('''<script>\n",
    "code_show=true; \n",
    "function code_toggle() {\n",
    " if (code_show){\n",
    " $('div.input').hide();\n",
    " } else {\n",
    " $('div.input').show();\n",
    " }\n",
    " code_show = !code_show\n",
    "} \n",
    "$( document ).ready(code_toggle);\n",
    "</script>\n",
    "<form action=\"javascript:code_toggle()\"><input type=\"submit\" value=\"Click here to toggle on/off the raw code.\"></form>''')"
   ]
  },
  {
   "cell_type": "code",
   "execution_count": 2,
   "metadata": {},
   "outputs": [],
   "source": [
    "# Survey_tours_w_dist[(Survey_tours_w_dist.sov_dist > 70)& (Survey_tours_w_dist.poe_id ==2)].groupby('dest_taz')[['sample_rate']].sum().to_csv(r'E:\\Projects\\Clients\\sandag\\xborder\\Models\\Calibration\\output\\tecate_longtours_dests.csv')"
   ]
  },
  {
   "cell_type": "code",
   "execution_count": 3,
   "metadata": {
    "tags": [
     "hide-input"
    ]
   },
   "outputs": [],
   "source": [
    "import pandas as pd\n",
    "import seaborn as sns\n",
    "import numpy as np\n",
    "import openmatrix as omx\n",
    "from matplotlib import pyplot as plt\n",
    "# import geopandas as gpd\n",
    "%matplotlib inline"
   ]
  },
  {
   "cell_type": "code",
   "execution_count": 4,
   "metadata": {},
   "outputs": [],
   "source": [
    "import xlsxwriter\n",
    "import matplotlib.ticker as ticker\n",
    "import warnings \n",
    "warnings.filterwarnings('ignore')"
   ]
  },
  {
   "cell_type": "markdown",
   "metadata": {},
   "source": []
  },
  {
   "cell_type": "code",
   "execution_count": 5,
   "metadata": {},
   "outputs": [],
   "source": [
    "Survey_trips = pd.read_csv(r'../output\\Survey\\trips_asim.csv')\n",
    "Survey_tours = pd.read_csv(r'../output\\Survey\\tours_asim.csv')\n",
    "\n",
    "mode_ids = {1: 'DRIVEALONE', 2:'SHARED2', 3:'SHARED3', 4:'WALK', 6:'WALK_TRANSIT', 10:'TAXI', 11:'TNC_SINGLE', 12:'TNC_SHARED'}\n",
    "purpose_ids = {-1: 'home', 0:'work', 1:'school', 2:'cargo', 3:'shop', 4:'visit', 5:'other'}\n",
    "\n"
   ]
  },
  {
   "cell_type": "code",
   "execution_count": 6,
   "metadata": {},
   "outputs": [],
   "source": [
    "skims = omx.open_file(r'..\\data\\traffic_skims_xborder_EA.omx')\n",
    "mazs = pd.read_csv(r'..\\data\\mazs_xborder.csv')\n",
    "mazs.set_index('MAZ', inplace=True)\n",
    "maz_to_taz = mazs['TAZ']\n",
    "maz_to_ext_taz = mazs['external_TAZ']\n",
    "ext_maz_to_maz = mazs['original_MAZ']"
   ]
  },
  {
   "cell_type": "code",
   "execution_count": 7,
   "metadata": {},
   "outputs": [],
   "source": [
    "Survey_trips = Survey_trips.merge(Survey_tours, left_on='tour_id', right_on='tour_id', suffixes=('', '_tour'))\n",
    "Survey_tours = Survey_tours.merge(Survey_trips[['tour_id','sample_rate']].drop_duplicates(), on='tour_id',  how = 'left', suffixes=('', '_tour'))"
   ]
  },
  {
   "cell_type": "code",
   "execution_count": 8,
   "metadata": {},
   "outputs": [],
   "source": [
    "Survey_trips['source'] = 'Survey'\n",
    "Survey_tours['source'] = 'Survey'"
   ]
  },
  {
   "cell_type": "code",
   "execution_count": 9,
   "metadata": {},
   "outputs": [],
   "source": [
    "asim_trips = pd.read_csv(r'..\\output\\final_trips.csv')\n",
    "asim_tours = pd.read_csv(r'..\\output\\final_tours.csv')"
   ]
  },
  {
   "cell_type": "code",
   "execution_count": 10,
   "metadata": {},
   "outputs": [],
   "source": [
    "asim_trips = asim_trips.merge(asim_tours, left_on='tour_id', right_on='tour_id', suffixes=('', '_tour'))"
   ]
  },
  {
   "cell_type": "code",
   "execution_count": 11,
   "metadata": {},
   "outputs": [
    {
     "name": "stdout",
     "output_type": "stream",
     "text": [
      "449503 424363.4668990897\n",
      "113995 107564.01315012992\n"
     ]
    }
   ],
   "source": [
    "print(len(asim_trips),Survey_trips.sample_rate.sum())\n",
    "print(len(asim_tours),Survey_tours.sample_rate.sum())"
   ]
  },
  {
   "cell_type": "code",
   "execution_count": 12,
   "metadata": {},
   "outputs": [],
   "source": [
    "asim_tours['dest_taz'] = asim_tours['destination'].map(maz_to_taz)\n",
    "asim_tours['orig_taz'] = asim_tours['origin'].map(maz_to_taz)\n",
    "asim_trips['dest_taz'] = asim_trips['destination'].map(maz_to_taz)\n",
    "asim_trips['orig_taz'] = asim_trips['origin'].map(maz_to_taz)"
   ]
  },
  {
   "cell_type": "code",
   "execution_count": 13,
   "metadata": {},
   "outputs": [],
   "source": [
    "Survey_tours['dest_taz'] = Survey_tours['destination'].map(maz_to_taz)\n",
    "Survey_tours['orig_taz'] = Survey_tours['origin'].map(maz_to_taz)\n",
    "Survey_trips['dest_taz'] = Survey_trips['destination'].map(maz_to_taz)\n",
    "Survey_trips['orig_taz'] = Survey_trips['origin'].map(maz_to_taz)"
   ]
  },
  {
   "cell_type": "code",
   "execution_count": 14,
   "metadata": {},
   "outputs": [],
   "source": [
    "asim_trips['source'] = 'asim'\n",
    "asim_tours['source'] = 'asim'"
   ]
  },
  {
   "cell_type": "markdown",
   "metadata": {},
   "source": [
    "## Compare base data"
   ]
  },
  {
   "cell_type": "markdown",
   "metadata": {},
   "source": [
    "### Zone Schemas "
   ]
  },
  {
   "cell_type": "markdown",
   "metadata": {},
   "source": [
    "Activitysim created new MAZ IDs for POE's"
   ]
  },
  {
   "cell_type": "code",
   "execution_count": 15,
   "metadata": {},
   "outputs": [
    {
     "name": "stdout",
     "output_type": "stream",
     "text": [
      "max. tour origin MAZ -- Survey: 23005 // asim: 23005 \n",
      "max. tour dest MAZ -- Survey: 22943.0 // asim: 22941 \n",
      "max. trip orig MAZ -- Survey 23005.0 // asim 23005 \n",
      "max. trip dest MAZ -- Survey 23005.0 // asim 23005 \n",
      "\n"
     ]
    }
   ],
   "source": [
    "print((\n",
    "    \"max. tour origin MAZ -- Survey: {0} // asim: {1} \\n\"\n",
    "    \"max. tour dest MAZ -- Survey: {2} // asim: {3} \\n\"\n",
    "    \"max. trip orig MAZ -- Survey {4} // asim {5} \\n\"\n",
    "    \"max. trip dest MAZ -- Survey {6} // asim {7} \\n\").format(\n",
    "        Survey_tours['origin'].max(), asim_tours['origin'].max(),\n",
    "        Survey_tours['destination'].max(), asim_tours['destination'].max(),\n",
    "        Survey_trips['origin'].max(), asim_trips['origin'].max(),\n",
    "        Survey_trips['destination'].max(), asim_trips['destination'].max()\n",
    "    )\n",
    ")"
   ]
  },
  {
   "cell_type": "markdown",
   "metadata": {},
   "source": [
    "But the TAZ IDs should still match up"
   ]
  },
  {
   "cell_type": "code",
   "execution_count": 16,
   "metadata": {},
   "outputs": [
    {
     "name": "stdout",
     "output_type": "stream",
     "text": [
      "min. tour origin TAZ -- Survey: 1 // asim: 1 \n",
      "max. tour origin TAZ -- Survey: 4 // asim: 4 \n",
      "min. tour dest TAZ -- Survey: 94 // asim: 125 \n",
      "min. trip orig TAZ -- Survey 1 // asim 1 \n",
      "min. trip dest TAZ -- Survey 1 // asim 1 \n",
      "\n"
     ]
    }
   ],
   "source": [
    "print((\n",
    "    \"min. tour origin TAZ -- Survey: {0} // asim: {1} \\n\"\n",
    "    \"max. tour origin TAZ -- Survey: {2} // asim: {3} \\n\"\n",
    "    \"min. tour dest TAZ -- Survey: {4} // asim: {5} \\n\"\n",
    "    \"min. trip orig TAZ -- Survey {6} // asim {7} \\n\"\n",
    "    \"min. trip dest TAZ -- Survey {8} // asim {9} \\n\").format(\n",
    "        Survey_tours['orig_taz'].min(), asim_tours['orig_taz'].min(),\n",
    "        Survey_tours['orig_taz'].max(), asim_tours['orig_taz'].max(),\n",
    "        Survey_tours['dest_taz'].min(), asim_tours['dest_taz'].min(),\n",
    "        Survey_trips['orig_taz'].min(), asim_trips['orig_taz'].min(),\n",
    "        Survey_trips['dest_taz'].min(), asim_trips['dest_taz'].min()\n",
    "    )\n",
    ")"
   ]
  },
  {
   "cell_type": "markdown",
   "metadata": {},
   "source": [
    "For validation we convert the new MAZ IDs back to the original because they don't exist in CTRAMP"
   ]
  },
  {
   "cell_type": "code",
   "execution_count": 17,
   "metadata": {},
   "outputs": [],
   "source": [
    "new_mazs = asim_tours['origin'].unique()\n",
    "# asim_tours['origin'] = asim_tours['origin'].map(ext_maz_to_maz)"
   ]
  },
  {
   "cell_type": "code",
   "execution_count": 18,
   "metadata": {},
   "outputs": [],
   "source": [
    "for od in ['origin', 'destination']:\n",
    "    od_mask = asim_trips[od].isin(new_mazs)\n",
    "    asim_trips.loc[od_mask, od] = asim_trips.loc[od_mask, od].map(ext_maz_to_maz)"
   ]
  },
  {
   "cell_type": "code",
   "execution_count": 19,
   "metadata": {},
   "outputs": [
    {
     "name": "stdout",
     "output_type": "stream",
     "text": [
      "max. tour origin MAZ -- Survey: 23005 // asim: 23005 \n",
      "max. tour dest MAZ -- Survey: 22943.0 // asim: 22941 \n",
      "max. trip orig MAZ -- Survey 23005.0 // asim 22971 \n",
      "max. trip dest MAZ -- Survey 23005.0 // asim 22971 \n",
      "\n"
     ]
    }
   ],
   "source": [
    "print((\n",
    "    \"max. tour origin MAZ -- Survey: {0} // asim: {1} \\n\"\n",
    "    \"max. tour dest MAZ -- Survey: {2} // asim: {3} \\n\"\n",
    "    \"max. trip orig MAZ -- Survey {4} // asim {5} \\n\"\n",
    "    \"max. trip dest MAZ -- Survey {6} // asim {7} \\n\").format(\n",
    "        Survey_tours['origin'].max(), asim_tours['origin'].max(),\n",
    "        Survey_tours['destination'].max(), asim_tours['destination'].max(),\n",
    "        Survey_trips['origin'].max(), asim_trips['origin'].max(),\n",
    "        Survey_trips['destination'].max(), asim_trips['destination'].max()\n",
    "    )\n",
    ")"
   ]
  },
  {
   "cell_type": "markdown",
   "metadata": {},
   "source": [
    "### Border Crossings "
   ]
  },
  {
   "cell_type": "code",
   "execution_count": 20,
   "metadata": {},
   "outputs": [],
   "source": [
    "asim_tours['sentri_crossing'] = 0\n",
    "asim_tours.loc[asim_tours.pass_type == 'sentri','sentri_crossing'] = 1\n",
    "Survey_tours['sentri'] = 0\n",
    "Survey_tours.loc[Survey_tours.pass_type == 'sentri','sentri'] = 1"
   ]
  },
  {
   "cell_type": "code",
   "execution_count": 21,
   "metadata": {},
   "outputs": [
    {
     "data": {
      "image/png": "[encoded data removed]",
      "text/plain": [
       "<Figure size 1080x360 with 2 Axes>"
      ]
     },
     "metadata": {
      "needs_background": "light"
     },
     "output_type": "display_data"
    }
   ],
   "source": [
    "fig, axarr = plt.subplots(1,2,figsize=(15,5))\n",
    "sentri_shares = pd.DataFrame((\n",
    "    (Survey_tours.groupby('pass_type')['sample_rate'].sum()/Survey_tours['sample_rate'].sum()),\n",
    "    (asim_tours['pass_type'].value_counts() / len(asim_tours))))\n",
    "sentri_shares.index = ['Survey', 'asim']\n",
    "sentri_shares.index.name = 'source'\n",
    "sentri_shares.reset_index(inplace=True)\n",
    "sentri_shares = sentri_shares.melt(id_vars='source', value_name='share', var_name='pass_type')\n",
    "\n",
    "asim_purpose_shares = pd.DataFrame(asim_tours['tour_type'].value_counts(sort=False) / asim_tours.shape[0]).reset_index()\n",
    "asim_purpose_shares.columns = ['purpose', 'share']\n",
    "asim_purpose_shares['source'] = 'asim'\n",
    "Survey_purpose_shares = pd.DataFrame(Survey_tours['tour_type'].value_counts(sort=False) / Survey_tours.shape[0]).reset_index()\n",
    "Survey_purpose_shares.columns = ['purpose', 'share']\n",
    "Survey_purpose_shares['source'] = 'Survey'\n",
    "purpose_shares = pd.concat((asim_purpose_shares, Survey_purpose_shares))\n",
    "\n",
    "sns.barplot(data=sentri_shares.sort_values('source'), x='pass_type', y='share', hue='source', ax=axarr[0],alpha=0.6)\n",
    "sns.barplot(data=purpose_shares.sort_values('source'), x='purpose', y='share', hue='source', ax=axarr[1], alpha=0.6)\n",
    "\n",
    "for ax in axarr:\n",
    "    ax.legend(fontsize=12)\n",
    "    ax.set_ylabel('share', fontsize=13)\n",
    "    ax.set_xticklabels(labels=ax.get_xticklabels(),fontsize=10)\n",
    "    ax.set_xlabel(ax.get_xlabel(), fontsize=13)"
   ]
  },
  {
   "cell_type": "code",
   "execution_count": 22,
   "metadata": {},
   "outputs": [
    {
     "data": {
      "text/plain": [
       "<seaborn.axisgrid.FacetGrid at 0x14e2300faf0>"
      ]
     },
     "execution_count": 22,
     "metadata": {},
     "output_type": "execute_result"
    },
    {
     "data": {
      "image/png": "[encoded data removed]",
      "text/plain": [
       "<Figure size 1150.62x360 with 3 Axes>"
      ]
     },
     "metadata": {
      "needs_background": "light"
     },
     "output_type": "display_data"
    }
   ],
   "source": [
    "asim_purp_poe_shares = asim_tours.groupby(['pass_type','tour_type'])['tour_id'].count().reset_index(level='tour_type').merge(\n",
    "    asim_tours.groupby('pass_type').count().rename(\n",
    "        columns={'tour_id':'total'})[['total']], left_index=True, right_index=True).reset_index()\n",
    "asim_purp_poe_shares['share'] = asim_purp_poe_shares['tour_id'] / asim_purp_poe_shares['total']\n",
    "asim_purp_poe_shares.columns = ['pass_type','purpose','count','total','share']\n",
    "asim_purp_poe_shares['source'] = 'asim'\n",
    "\n",
    "Survey_purp_poe_shares = Survey_tours.groupby(['pass_type','tour_type'])['sample_rate'].sum().reset_index(level='tour_type').merge(\n",
    "    Survey_tours.groupby('pass_type').sum().rename(\n",
    "        columns={'sample_rate':'total'})[['total']], left_index=True, right_index=True).reset_index()\n",
    "Survey_purp_poe_shares['share'] = Survey_purp_poe_shares['sample_rate'] / Survey_purp_poe_shares['total']\n",
    "Survey_purp_poe_shares.columns = ['pass_type','purpose','count','total','share']\n",
    "Survey_purp_poe_shares['source'] = 'Survey'\n",
    "purp_poe_shares = pd.concat((asim_purp_poe_shares,Survey_purp_poe_shares))\n",
    "\n",
    "sns.catplot(data=purp_poe_shares.sort_values('source'), x='purpose', y='share', hue='source', col='pass_type',kind='bar', alpha=0.6)"
   ]
  },
  {
   "cell_type": "code",
   "execution_count": 23,
   "metadata": {},
   "outputs": [
    {
     "data": {
      "text/plain": [
       "<seaborn.axisgrid.FacetGrid at 0x14e20ef9130>"
      ]
     },
     "execution_count": 23,
     "metadata": {},
     "output_type": "execute_result"
    },
    {
     "data": {
      "image/png": "[encoded data removed]",
      "text/plain": [
       "<Figure size 1150.62x360 with 3 Axes>"
      ]
     },
     "metadata": {
      "needs_background": "light"
     },
     "output_type": "display_data"
    }
   ],
   "source": [
    "asim_purp_poe_shares = asim_tours.groupby(['origin','tour_type'])['tour_id'].count().reset_index(level='tour_type').merge(\n",
    "    asim_tours.groupby('origin').count().rename(\n",
    "        columns={'tour_id':'origin_total'})[['origin_total']], left_index=True, right_index=True).reset_index()\n",
    "asim_purp_poe_shares['share'] = asim_purp_poe_shares['tour_id'] / asim_purp_poe_shares['origin_total']\n",
    "asim_purp_poe_shares.columns = ['origin','purpose','count','total','share']\n",
    "asim_purp_poe_shares['source'] = 'asim'\n",
    "\n",
    "Survey_purp_poe_shares = Survey_tours.groupby(['origin','tour_type'])['sample_rate'].sum().reset_index(level='tour_type').merge(\n",
    "    Survey_tours.groupby('origin').sum().rename(\n",
    "        columns={'sample_rate':'origin_total'})[['origin_total']], left_index=True, right_index=True).reset_index()\n",
    "Survey_purp_poe_shares['share'] = Survey_purp_poe_shares['sample_rate'] / Survey_purp_poe_shares['origin_total']\n",
    "Survey_purp_poe_shares.columns = ['origin','purpose','count','total','share']\n",
    "Survey_purp_poe_shares['source'] = 'Survey'\n",
    "purp_poe_shares = pd.concat((asim_purp_poe_shares,Survey_purp_poe_shares))\n",
    "\n",
    "sns.catplot(data=purp_poe_shares.sort_values('source'), x='purpose', y='share', hue='source', col='origin',kind='bar', alpha=0.6)"
   ]
  },
  {
   "cell_type": "code",
   "execution_count": 24,
   "metadata": {},
   "outputs": [],
   "source": [
    "writer = pd.ExcelWriter(r'..\\output\\calibration_temp.xlsx', engine = 'xlsxwriter')\n",
    "workbook = writer.book\n"
   ]
  },
  {
   "cell_type": "code",
   "execution_count": 25,
   "metadata": {},
   "outputs": [],
   "source": [
    "poe_calib = purp_poe_shares.groupby(['origin','purpose','source'],as_index = False)[['share']].sum()\n",
    "poe_calib.loc[poe_calib.purpose.isin(['visit','other']),'purpose'] = 'visit_other'\n",
    "\n",
    "poe_calib = poe_calib.pivot_table(values='share', \n",
    "        index=['origin', 'purpose'], \n",
    "        columns='source', \n",
    "        aggfunc=np.sum)\n",
    "poe_calib['fac'] = np.log(poe_calib['Survey']/poe_calib['asim'])\n",
    "poe_calib.to_excel(writer,sheet_name = 'POE_CONSTANT')\n",
    "# poe_calib"
   ]
  },
  {
   "cell_type": "code",
   "execution_count": 26,
   "metadata": {},
   "outputs": [],
   "source": [
    "# poe_calib.reset_index().groupby('origin')[['Survey','asim']].sum()"
   ]
  },
  {
   "cell_type": "markdown",
   "metadata": {},
   "source": [
    "## Tour Scheduling "
   ]
  },
  {
   "cell_type": "code",
   "execution_count": 27,
   "metadata": {},
   "outputs": [],
   "source": [
    "#timeslabes\n",
    "# fig, ax = plt.subplots(figsize=(15,7))\n",
    "# sns.kdeplot(data=Survey_tours, x='start',weights=Survey_tours.sample_rate, ax=ax, label='Survey', alpha=0.4, lw=3, )\n",
    "# sns.kdeplot(data=asim_tours, x='start', ax=ax, label='asim', alpha=0.4, lw=3)\n",
    "# ax.legend(fontsize=13)\n",
    "# ax.set_ylabel('density', fontsize=13)\n",
    "# ax.set_xlabel('tour departure hour', fontsize=15)"
   ]
  },
  {
   "cell_type": "code",
   "execution_count": 28,
   "metadata": {},
   "outputs": [
    {
     "data": {
      "image/png": "[encoded data removed]",
      "text/plain": [
       "<Figure size 1080x504 with 1 Axes>"
      ]
     },
     "metadata": {
      "needs_background": "light"
     },
     "output_type": "display_data"
    }
   ],
   "source": [
    "fig, ax = plt.subplots(figsize=(15,7))\n",
    "Survey_tours['sample_rate_share'] = Survey_tours['sample_rate'] / Survey_tours['sample_rate'].sum()\n",
    "asim_tours['share'] = 1/len(asim_tours)\n",
    "sns.histplot(data=Survey_tours, x='start',weights=Survey_tours.sample_rate_share, ax=ax,binwidth = 1, label='Survey', alpha=0.4, lw=3)\n",
    "sns.histplot(data=asim_tours,  x='start', weights=asim_tours.share, binwidth =1,ax=ax, label='asim', color = 'orange',alpha=0.4, lw=3)\n",
    "ax.legend(fontsize=13)\n",
    "ax.set_ylabel('Share', fontsize=13)\n",
    "ax.set_xlabel('tour departure hour', fontsize=15)\n",
    "ax.set_xticklabels(['3am','5am','7:30am','10am','12:30pm','3pm','5:30pm']);"
   ]
  },
  {
   "cell_type": "code",
   "execution_count": 29,
   "metadata": {},
   "outputs": [],
   "source": [
    "# fig, ax = plt.subplots(figsize=(15,7))\n",
    "# sns.histplot(data=Survey_tours, x='start',weights=Survey_tours.sample_rate, ax=ax,binwidth = 1, label='Survey', alpha=0.4, lw=3, kde = True)\n",
    "# sns.histplot(data=asim_tours,  x='start', weights=[1 for i in range(len(asim_tours))], binwidth =1,ax=ax, label='asim', color = 'orange',alpha=0.4,kde = True, lw=3)\n",
    "# ax.legend(fontsize=13)\n",
    "# ax.set_ylabel('density', fontsize=13)\n",
    "# ax.set_xlabel('tour departure hour', fontsize=15)\n",
    "# ax.set_xticklabels(['3am','5am','7:30am','10am','12:30pm','3pm','5:30pm'])"
   ]
  },
  {
   "cell_type": "code",
   "execution_count": null,
   "metadata": {},
   "outputs": [],
   "source": []
  },
  {
   "cell_type": "code",
   "execution_count": 30,
   "metadata": {},
   "outputs": [],
   "source": [
    "# fig, ax = plt.subplots(figsize=(15,7))\n",
    "# sns.kdeplot(data=Survey_tours, x='end', ax=ax,weights = Survey_tours.sample_rate, label='Survey', alpha=0.4, lw=3, )\n",
    "# sns.kdeplot(data=asim_tours, x='end', ax=ax, label='asim', alpha=0.4, lw=3)\n",
    "# ax.legend(fontsize=13)\n",
    "# ax.set_ylabel('density', fontsize=13)\n",
    "# ax.set_xlabel('tour anchor arrival hour', fontsize=15)"
   ]
  },
  {
   "cell_type": "code",
   "execution_count": 31,
   "metadata": {},
   "outputs": [
    {
     "data": {
      "text/plain": [
       "[Text(5.0, 0, '5am'),\n",
       " Text(10.0, 0, '7:30am'),\n",
       " Text(15.0, 0, '10am'),\n",
       " Text(20.0, 0, '12:30pm'),\n",
       " Text(25.0, 0, '3pm'),\n",
       " Text(30.0, 0, '5:30pm'),\n",
       " Text(35.0, 0, '8pm'),\n",
       " Text(40.0, 0, '10:30pm'),\n",
       " Text(45.0, 0, '')]"
      ]
     },
     "execution_count": 31,
     "metadata": {},
     "output_type": "execute_result"
    },
    {
     "data": {
      "image/png": "[encoded data removed]",
      "text/plain": [
       "<Figure size 1080x504 with 1 Axes>"
      ]
     },
     "metadata": {
      "needs_background": "light"
     },
     "output_type": "display_data"
    }
   ],
   "source": [
    "fig, ax = plt.subplots(figsize=(15,7))\n",
    "sns.histplot(data=Survey_tours, x='end',weights=Survey_tours.sample_rate_share, ax=ax,binwidth = 1, label='Survey', alpha=0.4, lw=3)\n",
    "sns.histplot(data=asim_tours,  x='end', weights=asim_tours.share, binwidth =1,ax=ax, label='asim', color = 'orange',alpha=0.4, lw=3)\n",
    "ax.legend(fontsize=13)\n",
    "ax.set_ylabel('share', fontsize=13)\n",
    "ax.set_xlabel('tour anchor arrival hour', fontsize=15)\n",
    "ax.set_xticklabels(['5am','7:30am','10am','12:30pm','3pm','5:30pm', '8pm','10:30pm'])"
   ]
  },
  {
   "cell_type": "markdown",
   "metadata": {},
   "source": [
    "## Tour OD Choice "
   ]
  },
  {
   "cell_type": "markdown",
   "metadata": {},
   "source": [
    "### Tour Origin"
   ]
  },
  {
   "cell_type": "code",
   "execution_count": 32,
   "metadata": {},
   "outputs": [
    {
     "data": {
      "text/plain": [
       "Text(0.5, 0, 'POE')"
      ]
     },
     "execution_count": 32,
     "metadata": {},
     "output_type": "execute_result"
    },
    {
     "data": {
      "image/png": "[encoded data removed]",
      "text/plain": [
       "<Figure size 720x432 with 1 Axes>"
      ]
     },
     "metadata": {
      "needs_background": "light"
     },
     "output_type": "display_data"
    }
   ],
   "source": [
    "asim_poe_shares = pd.DataFrame(asim_tours['origin'].value_counts(sort=False) / asim_tours.shape[0]).reset_index()\n",
    "asim_poe_shares.columns = ['poe', 'share']\n",
    "asim_poe_shares['source'] = 'asim'\n",
    "Survey_poe_shares = pd.DataFrame(Survey_tours.groupby('origin')['sample_rate'].sum() / Survey_tours.sample_rate.sum()).reset_index()\n",
    "Survey_poe_shares.columns = ['poe', 'share']\n",
    "Survey_poe_shares['source'] = 'Survey'\n",
    "poe_shares = pd.concat((asim_poe_shares, Survey_poe_shares))\n",
    "fig, ax = plt.subplots(figsize=(10,6))\n",
    "sns.barplot(data=poe_shares.sort_values('source'), x='poe', y='share', hue='source',ax=ax, alpha=0.6)\n",
    "\n",
    "ax.legend(fontsize=13)\n",
    "ax.set_ylabel('share', fontsize=15)\n",
    "ax.set_xticklabels(labels=ax.get_xticklabels(),fontsize=12)\n",
    "ax.set_xlabel('POE', fontsize=15)"
   ]
  },
  {
   "cell_type": "code",
   "execution_count": 33,
   "metadata": {},
   "outputs": [],
   "source": [
    "poe_calib1 = poe_shares.pivot(index = 'poe',columns = 'source', values = 'share')\n",
    "poe_calib1['fac'] = np.log(poe_calib1['Survey']/poe_calib1['asim'])\n",
    "poe_calib1.to_excel(writer,sheet_name = 'TECATE')"
   ]
  },
  {
   "cell_type": "markdown",
   "metadata": {},
   "source": [
    "### Tour Destination p-MSA by Origin "
   ]
  },
  {
   "cell_type": "code",
   "execution_count": 34,
   "metadata": {},
   "outputs": [],
   "source": [
    "asim_tours['dest_pseudomsa'] = asim_tours['destination'].map(mazs['pseudomsa'])\n",
    "Survey_tours['dest_pseudomsa'] = Survey_tours['destination'].map(mazs['pseudomsa'])\n",
    "asim_tour_ods = asim_tours.groupby(['origin','dest_pseudomsa'])['tour_id'].count().reset_index()\n",
    "Survey_tour_ods = Survey_tours.groupby(['origin','dest_pseudomsa'])['household_id'].count().reset_index()\n",
    "Survey_tour_ods.rename(columns={'originMGRA': 'origin'}, inplace=True)\n",
    "\n",
    "all_ods = pd.merge(\n",
    "    asim_tour_ods, Survey_tour_ods, left_on=['origin','dest_pseudomsa'],\n",
    "    right_on=['origin','dest_pseudomsa'], how='outer')\n",
    "all_ods.rename(columns={'household_id':'Survey', 'tour_id':'asim'}, inplace=True)\n",
    "all_ods['asim'] = all_ods['asim'].fillna(0)\n",
    "all_ods['Survey'] = all_ods['Survey'].fillna(0)\n",
    "all_ods = all_ods.melt(id_vars=['origin','dest_pseudomsa'], var_name='source', value_name='num_tours')"
   ]
  },
  {
   "cell_type": "code",
   "execution_count": 35,
   "metadata": {},
   "outputs": [],
   "source": [
    "asim_tours['dest_pseudomsa'] = asim_tours['destination'].map(mazs['pseudomsa'])\n",
    "Survey_tours['dest_pseudomsa'] = Survey_tours['destination'].map(mazs['pseudomsa'])\n",
    "asim_tour_ods = asim_tours.groupby(['origin','dest_pseudomsa'])['tour_id'].count().reset_index()\n",
    "asim_tour_ods['tour_id_num'] = asim_tour_ods['tour_id']\n",
    "asim_tour_ods['tour_id'] = asim_tour_ods['tour_id']/asim_tour_ods['tour_id'].sum()\n",
    "Survey_tour_ods = Survey_tours.groupby(['origin','dest_pseudomsa'])['sample_rate'].sum().reset_index()\n",
    "Survey_tour_ods['sample_rate_num'] = Survey_tour_ods['sample_rate']\n",
    "Survey_tour_ods['sample_rate'] = Survey_tour_ods['sample_rate']/Survey_tour_ods['sample_rate'].sum()\n",
    "# Survey_tour_ods.rename(columns={'originMGRA': 'origin'}, inplace=True)\n",
    "\n",
    "all_ods = pd.merge(\n",
    "    asim_tour_ods, Survey_tour_ods, left_on=['origin','dest_pseudomsa'],\n",
    "    right_on=['origin','dest_pseudomsa'], how='outer')\n",
    "all_ods.rename(columns={'sample_rate':'Survey', 'tour_id':'asim'}, inplace=True)\n",
    "all_ods['asim'] = all_ods['asim'].fillna(0)\n",
    "all_ods['Survey'] = all_ods['Survey'].fillna(0)\n",
    "all_ods = all_ods.melt(id_vars=['origin','dest_pseudomsa'], var_name='source', value_name='num_tours')"
   ]
  },
  {
   "cell_type": "code",
   "execution_count": 36,
   "metadata": {
    "scrolled": false
   },
   "outputs": [],
   "source": [
    "# pmsadest = all_ods[~all_ods.source.isin(['asim','Survey'])]\n",
    "# pmsadest.loc[pmsadest.source == 'sample_rate_num','source'] = 'Survey'\n",
    "# pmsadest.loc[pmsadest.source == 'tour_id_num','source'] = 'asim'\n",
    "# g = sns.barplot(\n",
    "#     data=pmsadest.sort_values('source'), x='dest_pseudomsa', y='num_tours',  hue='source',alpha= 0.6, ci=None)\n",
    "# g.set_ylabel('# tours', fontsize=15)\n",
    "# g.yaxis.set_major_formatter(ticker.FuncFormatter(lambda x, pos: '{:,.3}'.format(x) ))\n",
    "\n",
    "# g.set_xlabel('destination pseudoMSA', fontsize=12)"
   ]
  },
  {
   "cell_type": "code",
   "execution_count": 37,
   "metadata": {
    "scrolled": false
   },
   "outputs": [
    {
     "data": {
      "text/plain": [
       "Text(0.5, 0, 'destination pseudoMSA')"
      ]
     },
     "execution_count": 37,
     "metadata": {},
     "output_type": "execute_result"
    },
    {
     "data": {
      "image/png": "[encoded data removed]",
      "text/plain": [
       "<Figure size 432x288 with 1 Axes>"
      ]
     },
     "metadata": {
      "needs_background": "light"
     },
     "output_type": "display_data"
    }
   ],
   "source": [
    "# all_ods.loc[all_ods['source'] == 'Survey'['num_tours_share'] = all_ods['num_tours']/all_ods\n",
    "g = sns.barplot(\n",
    "    data=all_ods[all_ods.source.isin(['asim','Survey'])].sort_values('source'), x='dest_pseudomsa', y='num_tours',  hue='source',alpha= 0.6, ci=None)\n",
    "g.set_ylabel('Share tours', fontsize=15)\n",
    "g.yaxis.set_major_formatter(ticker.FuncFormatter(lambda x, pos: '{:,.3}%'.format(x*100) ))\n",
    "\n",
    "g.set_xlabel('destination pseudoMSA', fontsize=12)"
   ]
  },
  {
   "cell_type": "code",
   "execution_count": 38,
   "metadata": {
    "scrolled": false
   },
   "outputs": [
    {
     "data": {
      "image/png": "[encoded data removed]",
      "text/plain": [
       "<Figure size 1420.88x360 with 3 Axes>"
      ]
     },
     "metadata": {
      "needs_background": "light"
     },
     "output_type": "display_data"
    }
   ],
   "source": [
    "origin_tots = pd.DataFrame()\n",
    "srclist = ['Survey','asim']\n",
    "for port in all_ods.origin.unique():\n",
    "    for i,src in enumerate(['sample_rate_num','tour_id_num']):\n",
    "        origin_tots = origin_tots.append(pd.Series({'origin':port,\n",
    "                                            'tot':all_ods[(all_ods['source'] == src) & (all_ods.origin == port)].num_tours.sum(),\n",
    "                                            'source':src}),\n",
    "                                           ignore_index = True)\n",
    "all_ods = all_ods[~all_ods.source.isin(['asim','Survey'])].merge(origin_tots, how = 'left', on = ['origin','source'])\n",
    "all_ods['num_tours'] = all_ods['num_tours']/all_ods['tot']\n",
    "g = sns.catplot(\n",
    "    data=all_ods.sort_values('source'), x='dest_pseudomsa', y='num_tours', hue='source', kind='bar', col='origin',\n",
    "    aspect=1.2, legend_out=True, alpha=0.6)\n",
    "g._legend.set_title('Source', prop={'size':14})\n",
    "# g.fig.get_axes()[0].set_title('asim', fontsize=15)\n",
    "# g.fig.get_axes()[1].set_title('Survey', fontsize=15)\n",
    "g.axes[0,0].set_ylabel('Share tours', fontsize=15)\n",
    "g.axes[0,0].yaxis.set_major_formatter(ticker.FuncFormatter(lambda x, pos: '{:,.3}%'.format(x*100) ))\n",
    "\n",
    "g.axes[0,0].set_xlabel('destination pseudoMSA', fontsize=12)\n",
    "_ = g.axes[0,1].set_xlabel('destination pseudoMSA', fontsize=12)"
   ]
  },
  {
   "cell_type": "code",
   "execution_count": 39,
   "metadata": {},
   "outputs": [],
   "source": [
    "od_calib = all_ods[~all_ods.source.isin(['asim','Survey'])].pivot_table(index = ['origin','dest_pseudomsa'], values = 'num_tours',columns = 'source',aggfunc=np.sum)\n",
    "od_calib\n",
    "od_calib['fac'] = np.log(od_calib['sample_rate_num']/od_calib['tour_id_num'])\n",
    "od_calib.to_excel(writer,sheet_name = 'OD_CALIB')\n",
    "# od_calib"
   ]
  },
  {
   "cell_type": "code",
   "execution_count": 40,
   "metadata": {},
   "outputs": [],
   "source": [
    "# od_calib.reset_index().groupby('origin')[['sample_rate_num','tour_id_num']].sum()"
   ]
  },
  {
   "cell_type": "code",
   "execution_count": 41,
   "metadata": {},
   "outputs": [],
   "source": [
    "all_ods_wide = all_ods.pivot(index=['origin','dest_pseudomsa'],columns='source')\n",
    "all_ods_wide.columns = all_ods_wide.columns.get_level_values(1)\n",
    "all_ods_wide.reset_index(inplace=True)\n",
    "all_ods_wide['origin'] = all_ods_wide['origin'].astype(str)\n",
    "all_ods_wide['dest_pseudomsa'] = all_ods_wide['dest_pseudomsa'].astype(str)"
   ]
  },
  {
   "cell_type": "code",
   "execution_count": 42,
   "metadata": {
    "scrolled": true
   },
   "outputs": [],
   "source": [
    "# g = sns.relplot(\n",
    "#     data=all_ods_wide, x='sample_rate_num', y='tour_id_num', kind='scatter', col='origin', hue='dest_pseudomsa', s=200,alpha=0.5,\n",
    "# #     facet_kws={'sharex':False, 'sharey':False}\n",
    "# )\n",
    "# for ax in g.axes[0]:\n",
    "#     min_bound = min(ax.get_xlim()[0], ax.get_ylim()[0])\n",
    "#     max_bound = min(ax.get_xlim()[1], ax.get_ylim()[1])\n",
    "#     ax.plot([min_bound, max_bound],[min_bound, max_bound], 'k', zorder=0, lw=0.5)"
   ]
  },
  {
   "cell_type": "markdown",
   "metadata": {},
   "source": [
    "### Tour OD Dist by Tour OD Count Difference"
   ]
  },
  {
   "cell_type": "code",
   "execution_count": 43,
   "metadata": {},
   "outputs": [],
   "source": [
    "asim_tour_ods = asim_tours.groupby(['origin','dest_taz'])['tour_id'].count().reset_index()\n",
    "Survey_tour_ods = Survey_tours.groupby(['origin','dest_taz'])['sample_rate'].sum().reset_index()"
   ]
  },
  {
   "cell_type": "code",
   "execution_count": 44,
   "metadata": {},
   "outputs": [],
   "source": [
    "Survey_tour_ods.rename(columns={'originMGRA': 'origin', 'destinationTAZ': 'dest_taz'}, inplace=True)\n",
    "all_ods = pd.merge(\n",
    "    asim_tour_ods, Survey_tour_ods, on=['origin','dest_taz'], how='outer')\n",
    "all_ods.rename(columns={'sample_rate':'Survey', 'tour_id':'asim'}, inplace=True)\n",
    "all_ods['asim'] = all_ods['asim'].fillna(0)\n",
    "all_ods['Survey'] = all_ods['Survey'].fillna(0)\n",
    "all_ods['origin'] = all_ods['origin'].astype(str)\n",
    "all_ods['dest_taz'] = all_ods['dest_taz'].astype(int)"
   ]
  },
  {
   "cell_type": "code",
   "execution_count": 45,
   "metadata": {},
   "outputs": [],
   "source": [
    "all_ods['origin_taz'] = all_ods['origin'].astype(int).map(maz_to_ext_taz)\n",
    "all_ods['sov_dist'] = skims['SOV_NT_M_DIST__EA'][all_ods['origin_taz'] - 1, all_ods['dest_taz'] - 1]\n",
    "all_ods['dest_taz'] = all_ods['dest_taz'].astype(float)\n",
    "all_ods['diff'] = all_ods['Survey'] - all_ods['asim']"
   ]
  },
  {
   "cell_type": "code",
   "execution_count": 46,
   "metadata": {},
   "outputs": [],
   "source": [
    "# fig, ax = plt.subplots(figsize=(10,10))\n",
    "\n",
    "# g = sns.scatterplot(data=all_ods, x='sov_dist', y='diff',\n",
    "#                 hue='origin', s=50, palette='Spectral', alpha=0.5, edgecolor='k',linewidth=0.3)\n",
    "# ax.set_ylabel(\"# SURVEY - # ASIM\")"
   ]
  },
  {
   "cell_type": "markdown",
   "metadata": {},
   "source": [
    "### Tour Distance by Tour Mode"
   ]
  },
  {
   "cell_type": "code",
   "execution_count": 47,
   "metadata": {},
   "outputs": [],
   "source": [
    "asim_tours['intra_maz'] = asim_tours['origin'] == asim_tours['destination']\n",
    "Survey_tours['intra_maz'] = Survey_tours['origin'] == Survey_tours['destination']"
   ]
  },
  {
   "cell_type": "code",
   "execution_count": 48,
   "metadata": {},
   "outputs": [],
   "source": [
    "with open(r'E:\\Projects\\Clients\\sandag\\xborder\\Models\\Calibration\\configs\\tecate_dists.csv',\"w\") as of:\n",
    "    of.write(\"taz,dist\\n\")\n",
    "    for i,dist in enumerate(skims['SOV_NT_M_DIST__EA'][4]):\n",
    "        of.write(\"{},{}\\n\".format(i+1,dist))\n",
    "    of.close()"
   ]
  },
  {
   "cell_type": "code",
   "execution_count": 49,
   "metadata": {},
   "outputs": [
    {
     "data": {
      "text/plain": [
       "array([4], dtype=int64)"
      ]
     },
     "execution_count": 49,
     "metadata": {},
     "output_type": "execute_result"
    }
   ],
   "source": [
    "Survey_tours[Survey_tours.poe_id == 2].orig_taz.unique()"
   ]
  },
  {
   "cell_type": "code",
   "execution_count": 50,
   "metadata": {},
   "outputs": [],
   "source": [
    "asim_uniq_ods = asim_tours[['orig_taz','dest_taz']].drop_duplicates()\n",
    "asim_uniq_ods['sov_dist'] = skims['SOV_NT_M_DIST__EA'][asim_uniq_ods['orig_taz'].values - 1, asim_uniq_ods['dest_taz'].values - 1]\n",
    "asim_tours_w_dist = asim_tours.merge(asim_uniq_ods, left_on=['orig_taz', 'dest_taz'], right_on=['orig_taz','dest_taz'])\n",
    "\n",
    "Survey_uniq_ods = Survey_tours[['orig_taz','dest_taz']].drop_duplicates()\n",
    "Survey_uniq_ods['sov_dist'] = skims['SOV_NT_M_DIST__EA'][Survey_uniq_ods['orig_taz'].values - 1, Survey_uniq_ods['dest_taz'].values - 1]\n",
    "Survey_tours_w_dist = Survey_tours.merge(Survey_uniq_ods, left_on=['orig_taz','dest_taz'], right_on=['orig_taz','dest_taz'])\n",
    "Survey_tours_w_dist['origin'] = Survey_tours_w_dist['origin']"
   ]
  },
  {
   "cell_type": "code",
   "execution_count": 51,
   "metadata": {},
   "outputs": [],
   "source": [
    "asim_tours_w_dist['sample_rate'] = 1"
   ]
  },
  {
   "cell_type": "code",
   "execution_count": 52,
   "metadata": {},
   "outputs": [],
   "source": [
    "tour_dists = pd.concat((\n",
    "    asim_tours_w_dist[['sov_dist','source','intra_maz', 'origin', 'tour_mode','sample_rate']],\n",
    "    Survey_tours_w_dist[['sov_dist','source','intra_maz', 'origin', 'tour_mode','sample_rate']]), ignore_index=True)"
   ]
  },
  {
   "cell_type": "code",
   "execution_count": 53,
   "metadata": {},
   "outputs": [],
   "source": [
    "# sns.displot(\n",
    "#         data=tour_dists.sort_values('source'), x='sov_dist', col='tour_mode',col_wrap=2, hue='source',\n",
    "#         fill=True, aspect=1.5, common_norm=False,weights =tour_dists.sort_values('source').sample_rate,kde=True,\n",
    "#         facet_kws={'sharex': True, 'sharey': True, 'despine':False})"
   ]
  },
  {
   "cell_type": "markdown",
   "metadata": {},
   "source": [
    "### Tour Distance by Tour Mode by POE"
   ]
  },
  {
   "cell_type": "code",
   "execution_count": 54,
   "metadata": {},
   "outputs": [
    {
     "name": "stdout",
     "output_type": "stream",
     "text": [
      "Average Tour Distance by POE\n"
     ]
    },
    {
     "data": {
      "text/html": [
       "<div>\n",
       "<style scoped>\n",
       "    .dataframe tbody tr th:only-of-type {\n",
       "        vertical-align: middle;\n",
       "    }\n",
       "\n",
       "    .dataframe tbody tr th {\n",
       "        vertical-align: top;\n",
       "    }\n",
       "\n",
       "    .dataframe thead th {\n",
       "        text-align: right;\n",
       "    }\n",
       "</style>\n",
       "<table border=\"1\" class=\"dataframe\">\n",
       "  <thead>\n",
       "    <tr style=\"text-align: right;\">\n",
       "      <th></th>\n",
       "      <th>Asim Mean Tour Dist</th>\n",
       "      <th>Survey Mean Tour Dist</th>\n",
       "      <th>Diff</th>\n",
       "      <th>PCT Diff</th>\n",
       "    </tr>\n",
       "    <tr>\n",
       "      <th>origin</th>\n",
       "      <th></th>\n",
       "      <th></th>\n",
       "      <th></th>\n",
       "      <th></th>\n",
       "    </tr>\n",
       "  </thead>\n",
       "  <tbody>\n",
       "    <tr>\n",
       "      <th>23003</th>\n",
       "      <td>7.1</td>\n",
       "      <td>7.4</td>\n",
       "      <td>-0.3</td>\n",
       "      <td>-3.5%</td>\n",
       "    </tr>\n",
       "    <tr>\n",
       "      <th>23004</th>\n",
       "      <td>9.5</td>\n",
       "      <td>11.5</td>\n",
       "      <td>-1.9</td>\n",
       "      <td>-17.0%</td>\n",
       "    </tr>\n",
       "    <tr>\n",
       "      <th>23005</th>\n",
       "      <td>18.6</td>\n",
       "      <td>21.4</td>\n",
       "      <td>-2.8</td>\n",
       "      <td>-13.2%</td>\n",
       "    </tr>\n",
       "    <tr>\n",
       "      <th>Total</th>\n",
       "      <td>8.2</td>\n",
       "      <td>9.3</td>\n",
       "      <td>-1.0</td>\n",
       "      <td>-11.1%</td>\n",
       "    </tr>\n",
       "  </tbody>\n",
       "</table>\n",
       "</div>"
      ],
      "text/plain": [
       "        Asim Mean Tour Dist  Survey Mean Tour Dist  Diff PCT Diff\n",
       "origin                                                           \n",
       "23003                   7.1                    7.4  -0.3    -3.5%\n",
       "23004                   9.5                   11.5  -1.9   -17.0%\n",
       "23005                  18.6                   21.4  -2.8   -13.2%\n",
       "Total                   8.2                    9.3  -1.0   -11.1%"
      ]
     },
     "execution_count": 54,
     "metadata": {},
     "output_type": "execute_result"
    }
   ],
   "source": [
    "pd.options.display.float_format = '{:,.1f}'.format\n",
    "Survey_tours_w_dist['dist_weight'] = Survey_tours_w_dist['sov_dist']*Survey_tours_w_dist['sample_rate']\n",
    "Survey_tours_w_dist_df = Survey_tours_w_dist.groupby('origin').sum()\n",
    "Survey_tours_w_dist_df['sov_dist'] = Survey_tours_w_dist_df['dist_weight']/Survey_tours_w_dist_df['sample_rate']\n",
    "mean_dist_poe = pd.concat([asim_tours_w_dist.groupby('origin')['sov_dist'].mean(),Survey_tours_w_dist_df['sov_dist']], axis = 1)\n",
    "mean_dist_poe.columns = ['Asim Mean Tour Dist','Survey Mean Tour Dist']\n",
    "mean_dist_poe.loc['Total'] = [asim_tours_w_dist.sov_dist.mean(), Survey_tours_w_dist['dist_weight'].sum()/Survey_tours_w_dist['sample_rate'].sum()]\n",
    "mean_dist_poe['Diff'] = mean_dist_poe['Asim Mean Tour Dist'] -mean_dist_poe['Survey Mean Tour Dist']\n",
    "mean_dist_poe['PCT Diff'] = mean_dist_poe['Diff']/mean_dist_poe['Survey Mean Tour Dist']\n",
    "mean_dist_poe['PCT Diff'] = mean_dist_poe['PCT Diff'].map(lambda x: \"{:.1f}%\".format(x*100))\n",
    "print(\"Average Tour Distance by POE\")\n",
    "mean_dist_poe\n",
    "#only tens place"
   ]
  },
  {
   "cell_type": "code",
   "execution_count": 55,
   "metadata": {},
   "outputs": [
    {
     "name": "stdout",
     "output_type": "stream",
     "text": [
      "Average Tour Distance by Mode\n"
     ]
    },
    {
     "data": {
      "text/html": [
       "<div>\n",
       "<style scoped>\n",
       "    .dataframe tbody tr th:only-of-type {\n",
       "        vertical-align: middle;\n",
       "    }\n",
       "\n",
       "    .dataframe tbody tr th {\n",
       "        vertical-align: top;\n",
       "    }\n",
       "\n",
       "    .dataframe thead th {\n",
       "        text-align: right;\n",
       "    }\n",
       "</style>\n",
       "<table border=\"1\" class=\"dataframe\">\n",
       "  <thead>\n",
       "    <tr style=\"text-align: right;\">\n",
       "      <th></th>\n",
       "      <th>Asim Mean Tour Dist</th>\n",
       "      <th>Survey Mean Tour Dist</th>\n",
       "      <th>Diff</th>\n",
       "      <th>PCT Diff</th>\n",
       "    </tr>\n",
       "    <tr>\n",
       "      <th>tour_mode</th>\n",
       "      <th></th>\n",
       "      <th></th>\n",
       "      <th></th>\n",
       "      <th></th>\n",
       "    </tr>\n",
       "  </thead>\n",
       "  <tbody>\n",
       "    <tr>\n",
       "      <th>DRIVEALONE</th>\n",
       "      <td>12.0</td>\n",
       "      <td>10.8</td>\n",
       "      <td>1.2</td>\n",
       "      <td>11.2%</td>\n",
       "    </tr>\n",
       "    <tr>\n",
       "      <th>SHARED2</th>\n",
       "      <td>11.3</td>\n",
       "      <td>9.6</td>\n",
       "      <td>1.7</td>\n",
       "      <td>17.2%</td>\n",
       "    </tr>\n",
       "    <tr>\n",
       "      <th>SHARED3</th>\n",
       "      <td>10.3</td>\n",
       "      <td>9.3</td>\n",
       "      <td>1.0</td>\n",
       "      <td>10.5%</td>\n",
       "    </tr>\n",
       "    <tr>\n",
       "      <th>WALK</th>\n",
       "      <td>4.3</td>\n",
       "      <td>7.9</td>\n",
       "      <td>-3.6</td>\n",
       "      <td>-45.5%</td>\n",
       "    </tr>\n",
       "    <tr>\n",
       "      <th>Total</th>\n",
       "      <td>8.2</td>\n",
       "      <td>9.3</td>\n",
       "      <td>-1.0</td>\n",
       "      <td>-11.1%</td>\n",
       "    </tr>\n",
       "  </tbody>\n",
       "</table>\n",
       "</div>"
      ],
      "text/plain": [
       "            Asim Mean Tour Dist  Survey Mean Tour Dist  Diff PCT Diff\n",
       "tour_mode                                                            \n",
       "DRIVEALONE                 12.0                   10.8   1.2    11.2%\n",
       "SHARED2                    11.3                    9.6   1.7    17.2%\n",
       "SHARED3                    10.3                    9.3   1.0    10.5%\n",
       "WALK                        4.3                    7.9  -3.6   -45.5%\n",
       "Total                       8.2                    9.3  -1.0   -11.1%"
      ]
     },
     "execution_count": 55,
     "metadata": {},
     "output_type": "execute_result"
    }
   ],
   "source": [
    "Survey_tours_w_dist['dist_weight'] = Survey_tours_w_dist['sov_dist']*Survey_tours_w_dist['sample_rate']\n",
    "Survey_tours_w_dist_df = Survey_tours_w_dist.groupby('tour_mode').sum()\n",
    "Survey_tours_w_dist_df['sov_dist'] = Survey_tours_w_dist_df['dist_weight']/Survey_tours_w_dist_df['sample_rate']\n",
    "mean_dist_poe = pd.concat([asim_tours_w_dist.groupby('tour_mode')['sov_dist'].mean(),Survey_tours_w_dist_df['sov_dist']], axis = 1)\n",
    "mean_dist_poe.columns = ['Asim Mean Tour Dist','Survey Mean Tour Dist']\n",
    "mean_dist_poe.loc['Total'] = [asim_tours_w_dist.sov_dist.mean(), Survey_tours_w_dist['dist_weight'].sum()/Survey_tours_w_dist['sample_rate'].sum()]\n",
    "mean_dist_poe['Diff'] = mean_dist_poe['Asim Mean Tour Dist'] -mean_dist_poe['Survey Mean Tour Dist']\n",
    "mean_dist_poe['PCT Diff'] = mean_dist_poe['Diff']/mean_dist_poe['Survey Mean Tour Dist']\n",
    "mean_dist_poe['PCT Diff'] = mean_dist_poe['PCT Diff'].map(lambda x: \"{:.1f}%\".format(x*100))\n",
    "print(\"Average Tour Distance by Mode\")\n",
    "mean_dist_poe"
   ]
  },
  {
   "cell_type": "code",
   "execution_count": 56,
   "metadata": {},
   "outputs": [
    {
     "name": "stdout",
     "output_type": "stream",
     "text": [
      "Average Tour Distance by Purpose\n"
     ]
    },
    {
     "data": {
      "text/html": [
       "<div>\n",
       "<style scoped>\n",
       "    .dataframe tbody tr th:only-of-type {\n",
       "        vertical-align: middle;\n",
       "    }\n",
       "\n",
       "    .dataframe tbody tr th {\n",
       "        vertical-align: top;\n",
       "    }\n",
       "\n",
       "    .dataframe thead th {\n",
       "        text-align: right;\n",
       "    }\n",
       "</style>\n",
       "<table border=\"1\" class=\"dataframe\">\n",
       "  <thead>\n",
       "    <tr style=\"text-align: right;\">\n",
       "      <th></th>\n",
       "      <th>Asim Mean Tour Dist</th>\n",
       "      <th>Survey Mean Tour Dist</th>\n",
       "      <th>Diff</th>\n",
       "      <th>PCT Diff</th>\n",
       "    </tr>\n",
       "    <tr>\n",
       "      <th>tour_type</th>\n",
       "      <th></th>\n",
       "      <th></th>\n",
       "      <th></th>\n",
       "      <th></th>\n",
       "    </tr>\n",
       "  </thead>\n",
       "  <tbody>\n",
       "    <tr>\n",
       "      <th>other</th>\n",
       "      <td>13.4</td>\n",
       "      <td>9.1</td>\n",
       "      <td>4.4</td>\n",
       "      <td>48.4%</td>\n",
       "    </tr>\n",
       "    <tr>\n",
       "      <th>school</th>\n",
       "      <td>11.6</td>\n",
       "      <td>12.9</td>\n",
       "      <td>-1.3</td>\n",
       "      <td>-9.8%</td>\n",
       "    </tr>\n",
       "    <tr>\n",
       "      <th>shop</th>\n",
       "      <td>6.1</td>\n",
       "      <td>7.7</td>\n",
       "      <td>-1.6</td>\n",
       "      <td>-21.3%</td>\n",
       "    </tr>\n",
       "    <tr>\n",
       "      <th>visit</th>\n",
       "      <td>13.4</td>\n",
       "      <td>17.0</td>\n",
       "      <td>-3.6</td>\n",
       "      <td>-21.4%</td>\n",
       "    </tr>\n",
       "    <tr>\n",
       "      <th>work</th>\n",
       "      <td>11.7</td>\n",
       "      <td>13.3</td>\n",
       "      <td>-1.6</td>\n",
       "      <td>-12.0%</td>\n",
       "    </tr>\n",
       "    <tr>\n",
       "      <th>Total</th>\n",
       "      <td>8.2</td>\n",
       "      <td>9.3</td>\n",
       "      <td>-1.0</td>\n",
       "      <td>-11.1%</td>\n",
       "    </tr>\n",
       "  </tbody>\n",
       "</table>\n",
       "</div>"
      ],
      "text/plain": [
       "           Asim Mean Tour Dist  Survey Mean Tour Dist  Diff PCT Diff\n",
       "tour_type                                                           \n",
       "other                     13.4                    9.1   4.4    48.4%\n",
       "school                    11.6                   12.9  -1.3    -9.8%\n",
       "shop                       6.1                    7.7  -1.6   -21.3%\n",
       "visit                     13.4                   17.0  -3.6   -21.4%\n",
       "work                      11.7                   13.3  -1.6   -12.0%\n",
       "Total                      8.2                    9.3  -1.0   -11.1%"
      ]
     },
     "execution_count": 56,
     "metadata": {},
     "output_type": "execute_result"
    }
   ],
   "source": [
    "Survey_tours_w_dist['dist_weight'] = Survey_tours_w_dist['sov_dist']*Survey_tours_w_dist['sample_rate']\n",
    "Survey_tours_w_dist_df = Survey_tours_w_dist.groupby('tour_type').sum()\n",
    "Survey_tours_w_dist_df['sov_dist'] = Survey_tours_w_dist_df['dist_weight']/Survey_tours_w_dist_df['sample_rate']\n",
    "mean_dist_poe = pd.concat([asim_tours_w_dist.groupby('tour_type')['sov_dist'].mean(),Survey_tours_w_dist_df['sov_dist']], axis = 1)\n",
    "mean_dist_poe.columns = ['Asim Mean Tour Dist','Survey Mean Tour Dist']\n",
    "mean_dist_poe.loc['Total'] = [asim_tours_w_dist.sov_dist.mean(), Survey_tours_w_dist['dist_weight'].sum()/Survey_tours_w_dist['sample_rate'].sum()]\n",
    "mean_dist_poe['Diff'] = mean_dist_poe['Asim Mean Tour Dist'] -mean_dist_poe['Survey Mean Tour Dist']\n",
    "mean_dist_poe['PCT Diff'] = mean_dist_poe['Diff']/mean_dist_poe['Survey Mean Tour Dist']\n",
    "mean_dist_poe['PCT Diff'] = mean_dist_poe['PCT Diff'].map(lambda x: \"{:.1f}%\".format(x*100))\n",
    "print(\"Average Tour Distance by Purpose\")\n",
    "mean_dist_poe"
   ]
  },
  {
   "cell_type": "code",
   "execution_count": 57,
   "metadata": {},
   "outputs": [],
   "source": [
    "# short_walk_survey = Survey_tours_w_dist[(Survey_tours_w_dist.sov_dist < 5) & (Survey_tours_w_dist.tour_mode == 'WALK')]\n",
    "# short_walk_survey['source'] = 'Survey'\n",
    "# short_walk_asim = asim_tours_w_dist[(asim_tours_w_dist['sov_dist']<5) & (asim_tours_w_dist.tour_mode == 'WALK')]\n",
    "# short_walk_asim['source'] = 'asim'\n",
    "\n",
    "# short_walk = short_walk_survey.append(short_walk_asim, ignore_index = True)\n",
    "# print(\"Walk Tours < 5 mi by POE\")\n",
    "# sns.displot(\n",
    "#         data=short_walk[['source','sov_dist','poe_id','sample_rate']].sort_values('source'), x='sov_dist', hue='source',\n",
    "#         kind='kde', fill=True, aspect=1.5, common_norm=False,weights =short_walk.sort_values('source').sample_rate,\n",
    "#         facet_kws={'sharex': True, 'sharey': True,  'despine':False, 'margin_titles':True})"
   ]
  },
  {
   "cell_type": "code",
   "execution_count": 58,
   "metadata": {},
   "outputs": [],
   "source": [
    "# short_walk_survey = Survey_tours_w_dist[(Survey_tours_w_dist.sov_dist < 5) & (Survey_tours_w_dist.tour_mode == 'WALK')]\n",
    "# short_walk_survey['source'] = 'Survey'\n",
    "# short_walk_asim = asim_tours_w_dist[(asim_tours_w_dist['sov_dist']<5) & (asim_tours_w_dist.tour_mode == 'WALK')]\n",
    "# short_walk_asim['source'] = 'asim'\n",
    "\n",
    "# short_walk = short_walk_survey.append(short_walk_asim, ignore_index = True)\n",
    "# sns.displot(\n",
    "#         data=short_walk[['source','sov_dist','poe_id','sample_rate']].sort_values('source'), x='sov_dist', hue='source',\n",
    "#         kind='hist',kde = True, fill=True, aspect=1.5, common_norm=False,weights =short_walk.sort_values('source').sample_rate,\n",
    "#         facet_kws={'sharex': True, 'sharey': True,  'despine':False, 'margin_titles':True})"
   ]
  },
  {
   "cell_type": "code",
   "execution_count": 59,
   "metadata": {},
   "outputs": [],
   "source": [
    "# short_walk_survey = Survey_tours_w_dist[(Survey_tours_w_dist.sov_dist < 5) & (Survey_tours_w_dist.tour_mode == 'WALK')]\n",
    "# short_walk_survey['source'] = 'Survey'\n",
    "# short_walk_asim = asim_tours_w_dist[(asim_tours_w_dist['sov_dist']<5) & (asim_tours_w_dist.tour_mode == 'WALK')]\n",
    "# short_walk_asim['source'] = 'asim'\n",
    "\n",
    "# short_walk = short_walk_survey.append(short_walk_asim, ignore_index = True)\n",
    "# print(\"Walk Tours < 5 mi by POE\")\n",
    "# sns.displot(\n",
    "#         data=short_walk[['source','sov_dist','poe_id','sample_rate']].sort_values('source'),row = 'poe_id', x='sov_dist', hue='source',\n",
    "#         kind='kde', fill=True, aspect=1.5, common_norm=False,weights =short_walk.sort_values('source').sample_rate,\n",
    "#         facet_kws={'sharex': True, 'sharey': True,  'despine':False, 'margin_titles':True})"
   ]
  },
  {
   "cell_type": "code",
   "execution_count": 60,
   "metadata": {},
   "outputs": [],
   "source": [
    "# print(\"Walk tours < 5mi \\nSurvey: {:,.0f}, (records: {:,.0f})\\nAsim:  {:,.0f}\".format(short_walk[short_walk.source == 'Survey'].sample_rate.sum(),short_walk[short_walk.source == 'Survey'].sample_rate.count(),len(short_walk[short_walk.source == 'asim'])))"
   ]
  },
  {
   "cell_type": "code",
   "execution_count": 61,
   "metadata": {},
   "outputs": [],
   "source": [
    "# with sns.plotting_context(\"notebook\",font_scale=1.3):\n",
    "#     sns.displot(\n",
    "#         data=tour_dists.sort_values('source'), x='sov_dist', hue='source',\n",
    "#         kind='kde', fill=True, aspect=1.5, common_norm=False,weights =tour_dists.sort_values('source').sample_rate,\n",
    "#         facet_kws={'sharex': True, 'sharey': True,  'despine':False, 'margin_titles':True})"
   ]
  },
  {
   "cell_type": "markdown",
   "metadata": {},
   "source": [
    "## Tour Distances"
   ]
  },
  {
   "cell_type": "code",
   "execution_count": 62,
   "metadata": {},
   "outputs": [],
   "source": [
    "# with sns.plotting_context(\"notebook\",font_scale=1.3):\n",
    "#     sns.displot(\n",
    "#         data=tour_dists.sort_values('source'), x='sov_dist', row='tour_mode',hue='source',\n",
    "#         kind='kde', fill=True, aspect=1.5, common_norm=False,weights =tour_dists.sort_values('source').sample_rate,\n",
    "#         facet_kws={'sharex': True, 'sharey': True, 'despine':False, 'margin_titles':True})"
   ]
  },
  {
   "cell_type": "code",
   "execution_count": 63,
   "metadata": {},
   "outputs": [
    {
     "data": {
      "image/png": "[encoded data removed]",
      "text/plain": [
       "<Figure size 641.105x1440 with 4 Axes>"
      ]
     },
     "metadata": {
      "needs_background": "light"
     },
     "output_type": "display_data"
    }
   ],
   "source": [
    "for src in ['asim','Survey']:\n",
    "    for mode in tour_dists.tour_mode.unique():\n",
    "        tour_dists.loc[(tour_dists.source == src) &(tour_dists.tour_mode == mode) ,'sample_rate_mode'] = tour_dists[(tour_dists.source == src) &(tour_dists.tour_mode == mode)].sample_rate/tour_dists[(tour_dists.source == src) &(tour_dists.tour_mode == mode)].sample_rate.sum()\n",
    "\n",
    "with sns.plotting_context(\"notebook\",font_scale=1.3):\n",
    "    g = sns.displot(\n",
    "        data=tour_dists.sort_values('source'), x='sov_dist', row='tour_mode',hue='source',\n",
    "        kind='hist', binwidth = 5,fill=True, aspect=1.5, common_norm=False,weights =tour_dists.sort_values('source').sample_rate_mode,\n",
    "        facet_kws={'sharex': True, 'sharey': True, 'despine':False, 'margin_titles':True})\n",
    "    g.set_axis_labels(\"SOV_DIST\", \"share of tours\", fontsize=20)"
   ]
  },
  {
   "cell_type": "code",
   "execution_count": 64,
   "metadata": {},
   "outputs": [],
   "source": [
    "# with sns.plotting_context(\"notebook\",font_scale=1.3):\n",
    "#     sns.displot(\n",
    "#         data=tour_dists.sort_values('source'), x='sov_dist', col='origin',row='tour_mode',hue='source',\n",
    "#         kind='kde', fill=True, aspect=1.5, common_norm=False,weights =tour_dists.sort_values('source').sample_rate,\n",
    "#         facet_kws={'sharex': True, 'sharey': True, 'despine':False, 'margin_titles':True}).set(xlim =0)"
   ]
  },
  {
   "cell_type": "code",
   "execution_count": 65,
   "metadata": {},
   "outputs": [],
   "source": [
    "# with sns.plotting_context(\"notebook\",font_scale=1.1):\n",
    "#     sns.displot(\n",
    "#         data=tour_dists.sort_values('source'), x='sov_dist', col='intra_maz',hue='source', kind='kde', fill=True, aspect=1.5,\n",
    "#         facet_kws={'sharex': False, 'sharey': False}, weights =tour_dists.sort_values('source').sample_rate, common_norm=False).set(xlim =0)"
   ]
  },
  {
   "cell_type": "code",
   "execution_count": 66,
   "metadata": {},
   "outputs": [],
   "source": [
    "# with sns.plotting_context(\"notebook\",font_scale=1.3):\n",
    "#     sns.displot(\n",
    "#         data=tour_dists.sort_values('source'), x='sov_dist', col='intra_maz', row='origin', hue='source', kind='kde',fill =True,aspect=2,\n",
    "#         facet_kws={'sharex': False, 'sharey': False},weights =tour_dists.sort_values('source').sample_rate,   common_norm=False)"
   ]
  },
  {
   "cell_type": "markdown",
   "metadata": {},
   "source": [
    "## Tour Mode Choice"
   ]
  },
  {
   "cell_type": "code",
   "execution_count": 67,
   "metadata": {
    "scrolled": false,
    "tags": [
     "hide-input"
    ]
   },
   "outputs": [
    {
     "data": {
      "text/plain": [
       "Text(0.5, 0, 'tour mode')"
      ]
     },
     "execution_count": 67,
     "metadata": {},
     "output_type": "execute_result"
    },
    {
     "data": {
      "image/png": "[encoded data removed]",
      "text/plain": [
       "<Figure size 1080x504 with 1 Axes>"
      ]
     },
     "metadata": {
      "needs_background": "light"
     },
     "output_type": "display_data"
    }
   ],
   "source": [
    "fig, ax = plt.subplots(figsize=(15,7))\n",
    "tour_mode = asim_tours.groupby('tour_mode')[['tour_id']].count()\n",
    "tour_mode['tour_id'] = tour_mode['tour_id']/tour_mode['tour_id'].sum()\n",
    "tour_mode_survey = Survey_tours.groupby('tour_mode')[['sample_rate']].sum()\n",
    "tour_mode_survey['sample_rate'] = tour_mode_survey['sample_rate']/tour_mode_survey['sample_rate'].sum()\n",
    "tour_mode = pd.merge(tour_mode,tour_mode_survey , left_index=True, right_index=True).reset_index()\n",
    "tour_mode.columns = ['tour_mode','asim','Survey']\n",
    "tour_mode = tour_mode.melt(id_vars='tour_mode',var_name='source',value_name='num_tours')\n",
    "sns.barplot(\n",
    "    data=tour_mode.sort_values('source'), x='tour_mode', y='num_tours', order=['DRIVEALONE','SHARED2','SHARED3','WALK'],\n",
    "    hue='source', ax=ax, alpha=0.6)\n",
    "ax.legend(fontsize=13)\n",
    "ax.set_ylabel('share of tours', fontsize=15)\n",
    "ax.set_xlabel('tour mode', fontsize=15)"
   ]
  },
  {
   "cell_type": "code",
   "execution_count": 68,
   "metadata": {},
   "outputs": [],
   "source": [
    "tour_mode = asim_tours.groupby(['tour_mode','poe_id'])['tour_id'].count().reset_index()\n",
    "tour_mode = pd.merge(\n",
    "    tour_mode, Survey_tours.groupby(['tour_mode','poe_id'])['sample_rate'].sum().reset_index(),\n",
    "    left_on=['tour_mode','poe_id'], right_on=['tour_mode','poe_id'])"
   ]
  },
  {
   "cell_type": "code",
   "execution_count": 69,
   "metadata": {},
   "outputs": [],
   "source": [
    "tour_mode.columns = ['tour_mode','poe_id','asim','Survey']\n",
    "tour_mode = tour_mode.melt(id_vars=['tour_mode','poe_id'],var_name='source',value_name='num_tours')"
   ]
  },
  {
   "cell_type": "code",
   "execution_count": 70,
   "metadata": {},
   "outputs": [],
   "source": [
    "tour_mode_tot = tour_mode.groupby('source',as_index = False)[['num_tours']].sum().rename(columns = {'num_tours':'tot'})\n",
    "tour_mode = tour_mode.merge(tour_mode_tot)\n",
    "tour_mode['share_tours'] = tour_mode['num_tours']/tour_mode['tot']"
   ]
  },
  {
   "cell_type": "markdown",
   "metadata": {},
   "source": [
    "### Tour Mode by POE"
   ]
  },
  {
   "cell_type": "code",
   "execution_count": 71,
   "metadata": {},
   "outputs": [
    {
     "data": {
      "image/png": "[encoded data removed]",
      "text/plain": [
       "<Figure size 1150.62x360 with 3 Axes>"
      ]
     },
     "metadata": {
      "needs_background": "light"
     },
     "output_type": "display_data"
    }
   ],
   "source": [
    "g = sns.catplot(\n",
    "    data=tour_mode.sort_values('source'), x='tour_mode', y='share_tours', order=['DRIVEALONE','SHARED2','SHARED3','WALK'],kind='bar',col='poe_id',\n",
    "    hue='source', alpha=0.6, sharey=True)\n",
    "for i, ax in enumerate(g.axes[0]):\n",
    "    if i == 0:\n",
    "        ax.set_ylabel('share of tours', fontsize=15)\n",
    "    ax.set_xlabel('tour mode', fontsize=15)"
   ]
  },
  {
   "cell_type": "code",
   "execution_count": 72,
   "metadata": {},
   "outputs": [],
   "source": [
    "poe_id_tots = pd.DataFrame()\n",
    "srclist = ['Survey','asim']\n",
    "for port in tour_mode.poe_id.unique():\n",
    "    for i,src in enumerate(['asim','Survey']):\n",
    "        poe_id_tots = poe_id_tots.append(pd.Series({'poe_id':port,\n",
    "                                            'tot':tour_mode[(tour_mode['source'] == src) & (tour_mode.poe_id == port)].num_tours.sum(),\n",
    "                                            'source':src}),\n",
    "                                           ignore_index = True)\n",
    "tour_mode = tour_mode.drop('tot',axis =1).merge(poe_id_tots, how = 'left', on = ['poe_id','source'])\n",
    "tour_mode['num_tours'] = tour_mode['num_tours']/tour_mode['tot']\n"
   ]
  },
  {
   "cell_type": "code",
   "execution_count": 73,
   "metadata": {},
   "outputs": [],
   "source": [
    "poe_mode_calib = tour_mode.groupby(['source','poe_id','tour_mode'],as_index = False)[['num_tours']].sum().pivot(index = ['poe_id','tour_mode'],columns = 'source', values = 'num_tours')\n",
    "poe_mode_calib['fac'] = np.log(poe_mode_calib['Survey']/poe_mode_calib['asim'])\n",
    "poe_mode_calib.to_excel(writer, sheet_name = 'POE_MODE_CALIB')"
   ]
  },
  {
   "cell_type": "code",
   "execution_count": 74,
   "metadata": {},
   "outputs": [],
   "source": [
    "tour_mode = asim_tours.groupby(['tour_mode','tour_type'])['tour_id'].count().reset_index()\n",
    "tour_mode['num_asim'] = tour_mode['tour_id']\n",
    "tour_mode['tour_id'] = tour_mode['tour_id']/tour_mode['tour_id'].sum()\n",
    "survey_mode = Survey_tours.groupby(['tour_mode','tour_type'])['sample_rate'].sum().reset_index()\n",
    "survey_mode['num_survey'] = survey_mode['sample_rate']\n",
    "survey_mode['sample_rate'] = survey_mode['sample_rate']/survey_mode['sample_rate'].sum()\n",
    "tour_mode = pd.merge(\n",
    "    tour_mode, survey_mode,\n",
    "    on=['tour_mode','tour_type'])\n",
    "tour_mode.columns = ['tour_mode','tour_type','asim','num_asim','Survey','num_survey']\n",
    "tour_mode = tour_mode.melt(id_vars=['tour_mode','tour_type'],var_name='source',value_name='num_tours')"
   ]
  },
  {
   "cell_type": "markdown",
   "metadata": {},
   "source": [
    "### Tour Mode by Tour Purpose"
   ]
  },
  {
   "cell_type": "code",
   "execution_count": 75,
   "metadata": {
    "scrolled": false
   },
   "outputs": [
    {
     "data": {
      "image/png": "[encoded data removed]",
      "text/plain": [
       "<Figure size 1177x720 with 4 Axes>"
      ]
     },
     "metadata": {
      "needs_background": "light"
     },
     "output_type": "display_data"
    }
   ],
   "source": [
    "tour_mode.loc[tour_mode.tour_type.isin(['visit','other']),'tour_type'] = 'visit_other'\n",
    "\n",
    "origin_tots = pd.DataFrame()\n",
    "for port in tour_mode.tour_type.unique():\n",
    "    for i,src in enumerate(['num_survey','num_asim']):\n",
    "        origin_tots = origin_tots.append(pd.Series({'tour_type':port,\n",
    "                                            'tot':tour_mode[(tour_mode['source'] == src) & (tour_mode.tour_type == port)].num_tours.sum(),\n",
    "                                            'source':src}),\n",
    "                                           ignore_index = True)\n",
    "\n",
    "tour_mode = tour_mode[~tour_mode.source.isin(['asim','Survey'])].merge(origin_tots, how = 'left', on = ['tour_type','source'])\n",
    "tour_mode['share_tours'] = tour_mode['num_tours']/tour_mode['tot']\n",
    "g = sns.catplot(\n",
    "    data=tour_mode.sort_values('source',ascending = False), x='tour_mode', y='share_tours', order=['DRIVEALONE','SHARED2','SHARED3','WALK'],kind='bar',\n",
    "    col='tour_type', col_wrap=3,hue='source', alpha=0.6, sharey=True)"
   ]
  },
  {
   "cell_type": "code",
   "execution_count": 76,
   "metadata": {},
   "outputs": [],
   "source": [
    "purp_calib = tour_mode.groupby(['tour_type','source','tour_mode'],as_index = False)[['share_tours']].sum()\n",
    "# purp_calib.loc[purp_calib.tour_type.isin(['visit','other']),'tour_type'] = 'visit_other'\n",
    "purp_calib = purp_calib.pivot_table(index = ['tour_type','tour_mode'],\n",
    "                                                                              values = 'share_tours',\n",
    "                                                                              columns = 'source')\n",
    "purp_calib['fac'] = np.log(purp_calib['num_survey']/purp_calib['num_asim'])\n",
    "purp_calib.to_excel(writer,sheet_name = 'PURP_CALIB')\n",
    "# writer.save()\n",
    "# purp_calib"
   ]
  },
  {
   "cell_type": "code",
   "execution_count": 77,
   "metadata": {},
   "outputs": [],
   "source": [
    "# purp_calib.reset_index().groupby('tour_type')[['num_asim','num_survey']].sum()"
   ]
  },
  {
   "cell_type": "markdown",
   "metadata": {},
   "source": [
    "## Stop Frequency"
   ]
  },
  {
   "cell_type": "code",
   "execution_count": 78,
   "metadata": {},
   "outputs": [],
   "source": [
    "asim_tpt = asim_trips.groupby(['tour_id'])['trip_id'].count().value_counts().reset_index()\n",
    "asim_tpt.columns = ['# trips', '# tours']\n",
    "asim_tpt['share tours'] = asim_tpt['# tours'] / asim_tpt['# tours'].sum()\n",
    "# asim_tpt['# trips'] = asim_tpt['# trips'] / 59 #adjust for scaling\n",
    "# asim_tpt['# tours'] = asim_tpt['# tours'] * 59 #adjust for scaling\n",
    "# asim_tpt['# tours'] = asim_tpt['# tours'].value_counts()\n",
    "asim_tpt['source'] = 'asim'"
   ]
  },
  {
   "cell_type": "code",
   "execution_count": 79,
   "metadata": {},
   "outputs": [],
   "source": [
    "Survey_tpt = Survey_trips.groupby(['tour_id']).agg({'trip_id':'count','sample_rate':'first'}).groupby('trip_id').sum().reset_index()\n",
    "Survey_tpt.columns = ['# trips', '# tours']\n",
    "Survey_tpt['share tours'] = Survey_tpt['# tours'] / Survey_tpt['# tours'].sum()\n",
    "Survey_tpt['source'] = 'Survey'"
   ]
  },
  {
   "cell_type": "code",
   "execution_count": 80,
   "metadata": {},
   "outputs": [],
   "source": [
    "all_tpt = pd.concat([asim_tpt,Survey_tpt])"
   ]
  },
  {
   "cell_type": "code",
   "execution_count": 81,
   "metadata": {},
   "outputs": [
    {
     "data": {
      "text/plain": [
       "Text(0.5, 0, 'trips per tour')"
      ]
     },
     "execution_count": 81,
     "metadata": {},
     "output_type": "execute_result"
    },
    {
     "data": {
      "image/png": "[encoded data removed]",
      "text/plain": [
       "<Figure size 1080x504 with 1 Axes>"
      ]
     },
     "metadata": {
      "needs_background": "light"
     },
     "output_type": "display_data"
    }
   ],
   "source": [
    "fig, ax = plt.subplots(figsize=(15,7))\n",
    "sns.barplot(data=all_tpt.sort_values('source'), x='# trips', y='share tours', hue='source', ax=ax, alpha=0.6)\n",
    "ax.legend(fontsize=13)\n",
    "ax.set_ylabel('share tours', fontsize=15)\n",
    "ax.set_xlabel('trips per tour', fontsize=15)"
   ]
  },
  {
   "cell_type": "markdown",
   "metadata": {},
   "source": [
    "## Trip Purpose "
   ]
  },
  {
   "cell_type": "code",
   "execution_count": 82,
   "metadata": {},
   "outputs": [],
   "source": [
    "asim_purp = asim_trips.groupby(['purpose'])[['trip_id']].count().reset_index()\n",
    "asim_purp['trip_id'] = asim_purp['trip_id']/asim_purp['trip_id'].sum()\n",
    "asim_purp.columns = ['purpose', 'share of trips']\n",
    "asim_purp['source'] = 'asim'"
   ]
  },
  {
   "cell_type": "code",
   "execution_count": 83,
   "metadata": {},
   "outputs": [],
   "source": [
    "Survey_purp = Survey_trips.groupby(['purpose'])[['sample_rate']].sum().reset_index()\n",
    "Survey_purp['sample_rate'] = Survey_purp['sample_rate']/Survey_purp['sample_rate'].sum()\n",
    "Survey_purp.columns = ['purpose', 'share of trips']\n",
    "Survey_purp['source'] = 'Survey'"
   ]
  },
  {
   "cell_type": "code",
   "execution_count": 84,
   "metadata": {},
   "outputs": [],
   "source": [
    "all_purp = pd.concat([asim_purp, Survey_purp])"
   ]
  },
  {
   "cell_type": "code",
   "execution_count": 85,
   "metadata": {},
   "outputs": [
    {
     "data": {
      "text/plain": [
       "Text(0.5, 0, 'trip purpose')"
      ]
     },
     "execution_count": 85,
     "metadata": {},
     "output_type": "execute_result"
    },
    {
     "data": {
      "image/png": "[encoded data removed]",
      "text/plain": [
       "<Figure size 1080x504 with 1 Axes>"
      ]
     },
     "metadata": {
      "needs_background": "light"
     },
     "output_type": "display_data"
    }
   ],
   "source": [
    "fig, ax = plt.subplots(figsize=(15,7))\n",
    "sns.barplot(data=all_purp.sort_values('source'), x='purpose', y='share of trips', hue='source', ax=ax, alpha=0.6)\n",
    "ax.legend(fontsize=13)\n",
    "ax.set_ylabel('share of trips', fontsize=15)\n",
    "ax.set_xlabel('trip purpose', fontsize=15)"
   ]
  },
  {
   "cell_type": "markdown",
   "metadata": {},
   "source": [
    "### Trips per Tour by Trip Purpose "
   ]
  },
  {
   "cell_type": "code",
   "execution_count": 86,
   "metadata": {},
   "outputs": [],
   "source": [
    "asim_tpt = asim_trips.groupby(['tour_id', 'purpose'])['trip_id'].count().reset_index()\n",
    "asim_tpt.rename(columns={'trip_id': 'trips per tour', 'tour_id': '# tours', 'purpose': 'trip purpose'}, inplace=True)\n",
    "asim_tpt['# tours'] = asim_tpt['# tours']/asim_tpt['# tours'].sum()\n",
    "asim_tpt = asim_tpt.groupby(['trip purpose', 'trips per tour']).sum().reset_index()\n",
    "# asim_tpt['trips per tour'] = asim_tpt['trips per tour'] / 59 #adjust for scaling\n",
    "# asim_tpt['# tours'] = asim_tpt['# tours'] * 59 #adjust for scaling\n",
    "asim_tpt['source'] = 'asim'"
   ]
  },
  {
   "cell_type": "code",
   "execution_count": 87,
   "metadata": {},
   "outputs": [],
   "source": [
    "Survey_tpt = Survey_trips.groupby(['tour_id', 'purpose']).agg({'sample_rate':'first','trip_id':'count'}).reset_index()\n",
    "Survey_tpt.rename(columns={'trip_id': 'trips per tour', 'sample_rate': '# tours', 'purpose': 'trip purpose'}, inplace=True)\n",
    "Survey_tpt['# tours'] = Survey_tpt['# tours']/Survey_tpt['# tours'].sum()\n",
    "Survey_tpt = Survey_tpt.groupby(['trip purpose', 'trips per tour']).sum().reset_index()\n",
    "Survey_tpt['source'] = 'Survey'"
   ]
  },
  {
   "cell_type": "code",
   "execution_count": 88,
   "metadata": {},
   "outputs": [],
   "source": [
    "all_tpt = pd.concat([asim_tpt, Survey_tpt])"
   ]
  },
  {
   "cell_type": "code",
   "execution_count": 89,
   "metadata": {
    "scrolled": false
   },
   "outputs": [
    {
     "data": {
      "image/png": "[encoded data removed]",
      "text/plain": [
       "<Figure size 1541.11x720 with 6 Axes>"
      ]
     },
     "metadata": {
      "needs_background": "light"
     },
     "output_type": "display_data"
    }
   ],
   "source": [
    "with sns.plotting_context(\"notebook\",font_scale=1.3):\n",
    "    g = sns.catplot(\n",
    "        data=all_tpt.sort_values('source'), x='trips per tour', y='# tours', kind='bar', hue='source', col='trip purpose',\n",
    "        col_wrap=4, sharey=False, alpha=0.6)\n",
    "    g._legend.set_title('')\n",
    "    plt.setp(g._legend.get_texts(), fontsize=15)\n",
    "    g.set_titles(col_template=\"{col_name}\")\n",
    "    g.set_axis_labels(\"trips per tour\", \"share of tours\", fontsize=20)"
   ]
  },
  {
   "cell_type": "markdown",
   "metadata": {},
   "source": [
    "## Trip Scheduling "
   ]
  },
  {
   "cell_type": "code",
   "execution_count": 90,
   "metadata": {},
   "outputs": [],
   "source": [
    "# fig, ax = plt.subplots(figsize=(15,7))\n",
    "# sns.histplot(data=Survey_tours, x='start',weights=Survey_tours.sample_rate, ax=ax,binwidth = 1, label='Survey', alpha=0.4, lw=3, kde = True)\n",
    "# sns.histplot(data=asim_tours,  x='start', weights=[1 for i in range(len(asim_tours))], binwidth =1,ax=ax, label='asim', color = 'orange',alpha=0.4,kde = True, lw=3)\n",
    "# ax.legend(fontsize=13)\n",
    "# ax.set_ylabel('density', fontsize=13)\n",
    "# ax.set_xlabel('tour departure hour', fontsize=15)\n",
    "# ax.set_xticklabels(['3am','5am','7:30am','10am','12:30pm','3pm','5:30pm'])"
   ]
  },
  {
   "cell_type": "code",
   "execution_count": 91,
   "metadata": {},
   "outputs": [
    {
     "data": {
      "text/plain": [
       "[Text(0.0, 0, '3am'),\n",
       " Text(5.0, 0, '5am'),\n",
       " Text(10.0, 0, '7:30am'),\n",
       " Text(15.0, 0, '10am'),\n",
       " Text(20.0, 0, '12:30pm'),\n",
       " Text(25.0, 0, '3pm'),\n",
       " Text(30.0, 0, '5:30pm'),\n",
       " Text(35.0, 0, '8pm'),\n",
       " Text(40.0, 0, '10:30pm'),\n",
       " Text(45.0, 0, '')]"
      ]
     },
     "execution_count": 91,
     "metadata": {},
     "output_type": "execute_result"
    },
    {
     "data": {
      "image/png": "[encoded data removed]",
      "text/plain": [
       "<Figure size 1080x504 with 1 Axes>"
      ]
     },
     "metadata": {
      "needs_background": "light"
     },
     "output_type": "display_data"
    }
   ],
   "source": [
    "fig, ax = plt.subplots(figsize=(15,7))\n",
    "Survey_trips_out = Survey_trips[Survey_trips.outbound]\n",
    "Survey_trips_out['sample_rate_share'] = Survey_trips_out['sample_rate']/Survey_trips_out['sample_rate'].sum()\n",
    "asim_trips_out = asim_trips[asim_trips.outbound]\n",
    "asim_trips_out['share'] = 1/len(asim_trips_out)\n",
    "sns.histplot(data=Survey_trips_out, weights=Survey_trips_out.sample_rate_share,x='depart',binwidth = 1, ax=ax, label='Survey', alpha=0.5,)\n",
    "sns.histplot(data=asim_trips_out, x='depart',weights=asim_trips_out.share, ax=ax, label='asim',binwidth = 1, \n",
    "             alpha=0.5, color = 'orange')\n",
    "ax.legend(fontsize=13)\n",
    "ax.set_ylabel('density', fontsize=13)\n",
    "ax.set_xlabel('Outbound Trip departure hour', fontsize=15)\n",
    "# ax.set_xticklabels(['3am','5am','7:30am','10am','12:30pm','3pm','5:30pm'])\n",
    "ax.set_xticklabels(['3am','5am','7:30am','10am','12:30pm','3pm','5:30pm','8pm','10:30pm'])"
   ]
  },
  {
   "cell_type": "code",
   "execution_count": 92,
   "metadata": {},
   "outputs": [
    {
     "data": {
      "text/plain": [
       "[Text(0.0, 0, '3am'),\n",
       " Text(5.0, 0, '5am'),\n",
       " Text(10.0, 0, '7:30am'),\n",
       " Text(15.0, 0, '10am'),\n",
       " Text(20.0, 0, '12:30pm'),\n",
       " Text(25.0, 0, '3pm'),\n",
       " Text(30.0, 0, '5:30pm'),\n",
       " Text(35.0, 0, '8pm'),\n",
       " Text(40.0, 0, '10:30pm'),\n",
       " Text(45.0, 0, '')]"
      ]
     },
     "execution_count": 92,
     "metadata": {},
     "output_type": "execute_result"
    },
    {
     "data": {
      "image/png": "[encoded data removed]",
      "text/plain": [
       "<Figure size 1080x504 with 1 Axes>"
      ]
     },
     "metadata": {
      "needs_background": "light"
     },
     "output_type": "display_data"
    }
   ],
   "source": [
    "fig, ax = plt.subplots(figsize=(15,7))\n",
    "Survey_trips_out = Survey_trips[~Survey_trips.outbound]\n",
    "Survey_trips_out['sample_rate_share'] = Survey_trips_out['sample_rate']/Survey_trips_out['sample_rate'].sum()\n",
    "asim_trips_out = asim_trips[~asim_trips.outbound]\n",
    "asim_trips_out['share'] = 1/len(asim_trips_out)\n",
    "sns.histplot(data=Survey_trips_out, weights=Survey_trips_out.sample_rate_share,x='depart',binwidth = 1, ax=ax, label='Survey', alpha=0.5,)\n",
    "sns.histplot(data=asim_trips_out, x='depart',weights=asim_trips_out.share, ax=ax, label='asim',binwidth = 1, \n",
    "             alpha=0.5, color = 'orange')\n",
    "ax.legend(fontsize=13)\n",
    "ax.set_ylabel('density', fontsize=13)\n",
    "ax.set_xlabel('Inbound Trip departure hour', fontsize=15)\n",
    "# ax.set_xticklabels(['3am','5am','7:30am','10am','12:30pm','3pm','5:30pm'])\n",
    "ax.set_xticklabels(['3am','5am','7:30am','10am','12:30pm','3pm','5:30pm','8pm','10:30pm'])"
   ]
  },
  {
   "cell_type": "code",
   "execution_count": 93,
   "metadata": {},
   "outputs": [],
   "source": [
    "# fig, axarr = plt.subplots(figsize=(15,7), nrows=2, sharex=True)\n",
    "# sns.kdeplot(data=Survey_trips[(Survey_trips['outbound']) & (Survey_trips['trip_num'] == 4)], x='depart', ax=axarr[0], label='Survey', alpha=0.5, shade=True)\n",
    "# sns.kdeplot(data=asim_trips[(asim_trips['outbound']) & (asim_trips['trip_num'] == 4)], x='depart', ax=axarr[0], label='asim', alpha=0.5, shade=True)\n",
    "# axarr[0].legend(fontsize=13)\n",
    "# axarr[0].set_ylabel('density', fontsize=13)\n",
    "# axarr[0].set_xlabel('')\n",
    "# axarr[0].set_title('outbound', fontsize=15, loc='right')\n",
    "# axarr[1].set_title('inbound', fontsize=15, loc='right')\n",
    "# sns.kdeplot(data=Survey_trips[~(Survey_trips['outbound']) & (Survey_trips['trip_num'] == 4)], x='depart',weights=Survey_trips[~Survey_trips['outbound']].sample_rate, ax=axarr[1], label='Survey', alpha=0.5, shade=True)\n",
    "# sns.kdeplot(data=asim_trips[~(asim_trips['outbound']) & (asim_trips['trip_num'] == 4)], x='depart', ax=axarr[1], label='asim', alpha=0.5, shade=True)\n",
    "# axarr[1].legend(fontsize=13)\n",
    "# axarr[1].set_ylabel('density', fontsize=13)\n",
    "# axarr[1].set_xlabel('trip departure hour', fontsize=13)"
   ]
  },
  {
   "cell_type": "markdown",
   "metadata": {},
   "source": [
    "<!-- ## Trip Destination  -->"
   ]
  },
  {
   "cell_type": "code",
   "execution_count": 94,
   "metadata": {},
   "outputs": [],
   "source": [
    "asim_trips['dest_pseudomsa'] = asim_trips['destination'].map(mazs['pseudomsa'])\n",
    "asim_trips['orig_pseudomsa'] = asim_trips['origin'].map(mazs['pseudomsa'])\n",
    "Survey_trips['dest_pseudomsa'] = Survey_trips['destination'].map(mazs['pseudomsa'])\n",
    "Survey_trips['orig_pseudomsa'] = Survey_trips['origin'].map(mazs['pseudomsa'])"
   ]
  },
  {
   "cell_type": "code",
   "execution_count": 95,
   "metadata": {},
   "outputs": [],
   "source": [
    "asim_trip_ods = asim_trips.groupby(['orig_pseudomsa','dest_pseudomsa'])['trip_id'].count().reset_index()\n",
    "asim_trip_ods.columns=['origin pMSA', 'destination pMSA', '# trips']\n",
    "asim_trip_ods = asim_trip_ods.pivot(index='origin pMSA', columns='destination pMSA',values='# trips')\n",
    "Survey_trip_ods = Survey_trips.groupby(['orig_pseudomsa','dest_pseudomsa'])['sample_rate'].sum().reset_index()\n",
    "Survey_trip_ods.columns=['origin pMSA', 'destination pMSA', '# trips']\n",
    "Survey_trip_ods = Survey_trip_ods.pivot(index='origin pMSA', columns='destination pMSA',values='# trips')"
   ]
  },
  {
   "cell_type": "code",
   "execution_count": 96,
   "metadata": {},
   "outputs": [],
   "source": [
    "# from matplotlib.colors import LogNorm\n",
    "\n",
    "# fig, ax = plt.subplots(1, 2, sharex=True, sharey=True, figsize=(15,5))\n",
    "# vmin = min(asim_trip_ods.min().min(), Survey_trip_ods.min().min())\n",
    "# vmax = min(asim_trip_ods.max().max(), Survey_trip_ods.max().max())\n",
    "\n",
    "# sns.heatmap(\n",
    "#     asim_trip_ods, ax=ax[0], cmap=\"YlGnBu\", cbar=True,\n",
    "#     vmin=vmin, vmax=vmax,\n",
    "# #     norm=LogNorm()\n",
    "# )\n",
    "# g = sns.heatmap(\n",
    "#     Survey_trip_ods, ax=ax[1],cmap=\"YlGnBu\", cbar=True,\n",
    "#     vmin=vmin, vmax=vmax,\n",
    "# #     norm=LogNorm()\n",
    "# )\n",
    "# ax[0].set_title('asim', fontsize=15)\n",
    "# ax[0].set_ylabel('origin pseudo-MSA', fontsize=13)\n",
    "# ax[0].set_xlabel('destination pseudo-MSA', fontsize=13)\n",
    "# ax[1].set_title('Survey', fontsize=15)\n",
    "# ax[1].set_ylabel('')\n",
    "# ax[1].set_xlabel('destination pseudo-MSA', fontsize=13)\n",
    "# fig.suptitle('Trip OD Counts', fontsize=16)"
   ]
  },
  {
   "cell_type": "code",
   "execution_count": 97,
   "metadata": {},
   "outputs": [],
   "source": [
    "asim_trip_dest_tazs = asim_trips[asim_trips['trip_num'] != asim_trips['trip_count']].groupby('dest_taz')['trip_id'].count().reset_index()\n",
    "asim_trip_dest_tazs.rename(columns={'trip_id':'asim_count'}, inplace=True)\n",
    "\n",
    "Survey_trip_dest_tazs = Survey_trips[Survey_trips['trip_num'] != Survey_trips['trip_count']].groupby('dest_taz')['sample_rate'].sum().reset_index()\n",
    "Survey_trip_dest_tazs.rename(columns={'sample_rate':'Survey_count', 'dest_taz':'dest_taz'}, inplace=True)\n",
    "\n",
    "trip_dest_tazs = pd.merge(asim_trip_dest_tazs, Survey_trip_dest_tazs, left_on='dest_taz',right_on='dest_taz', how='outer').fillna(0)"
   ]
  },
  {
   "cell_type": "code",
   "execution_count": 98,
   "metadata": {},
   "outputs": [],
   "source": [
    "# fig, ax = plt.subplots(figsize=(8,8))\n",
    "# g = sns.scatterplot(data=trip_dest_tazs, x='asim_count', y='Survey_count',ax=ax, marker='.',alpha=0.3, s=250)\n",
    "# min_bound = min(ax.get_xlim()[0], ax.get_ylim()[0])\n",
    "# max_bound = min(ax.get_xlim()[1], ax.get_ylim()[1])\n",
    "# ax.plot([min_bound, max_bound], [min_bound, max_bound], linewidth=1, alpha=0.7, c='k', zorder=0)\n",
    "# ax.set_title('Trip Destination TAZ Counts (trip != last trip of leg)', fontsize=15)\n",
    "# ax.set_xlim(min_bound, max_bound)\n",
    "# ax.set_ylim(min_bound, max_bound)\n",
    "# ax.set_xlabel('asim',fontsize=13)\n",
    "# ax.set_ylabel('Survey', fontsize=13)"
   ]
  },
  {
   "cell_type": "markdown",
   "metadata": {},
   "source": [
    "<!-- ### Trip Distance -->"
   ]
  },
  {
   "cell_type": "code",
   "execution_count": 99,
   "metadata": {},
   "outputs": [],
   "source": [
    "asim_uniq_trip_ods = asim_trips[['orig_taz', 'dest_taz']].drop_duplicates()\n",
    "asim_uniq_trip_ods['sov_dist'] = skims['SOV_NT_M_DIST__EA'][asim_uniq_trip_ods['orig_taz'].values - 1, asim_uniq_trip_ods['dest_taz'].values - 1]\n",
    "\n",
    "Survey_uniq_trip_ods = Survey_trips[['orig_taz', 'dest_taz']].drop_duplicates()\n",
    "Survey_uniq_trip_ods['sov_dist'] = skims['SOV_NT_M_DIST__EA'][Survey_uniq_trip_ods['orig_taz'].values - 1, Survey_uniq_trip_ods['dest_taz'].values - 1]\n",
    "\n",
    "asim_trips_w_dist = asim_trips.merge(asim_uniq_trip_ods, left_on=['orig_taz', 'dest_taz'], right_on=['orig_taz','dest_taz'])\n",
    "Survey_trips_w_dist = Survey_trips.merge(Survey_uniq_trip_ods, left_on=['orig_taz','dest_taz'], right_on=['orig_taz','dest_taz'])"
   ]
  },
  {
   "cell_type": "code",
   "execution_count": 100,
   "metadata": {},
   "outputs": [],
   "source": [
    "asim_disc_mask = asim_trips_w_dist['trip_num'].between(1, asim_trips_w_dist['trip_count'], inclusive=False)\n",
    "asim_disc_trips = asim_trips_w_dist[asim_disc_mask]"
   ]
  },
  {
   "cell_type": "code",
   "execution_count": 101,
   "metadata": {},
   "outputs": [],
   "source": [
    "Survey_disc_mask = Survey_trips_w_dist['trip_num'].between(1, Survey_trips_w_dist['trip_count'], inclusive=False)\n",
    "Survey_disc_trips = Survey_trips_w_dist[Survey_disc_mask]"
   ]
  },
  {
   "cell_type": "code",
   "execution_count": 102,
   "metadata": {},
   "outputs": [],
   "source": [
    "\n",
    "# fig, ax = plt.subplots(figsize=(15,5))\n",
    "# Survey_trips_w_dist['sample_rate_share'] = Survey_trips_w_dist['sample_rate']/Survey_trips_w_dist['sample_rate'].sum()\n",
    "# asim_trips_w_dist['share'] = 1/len(asim_trips_w_dist)\n",
    "# sns.histplot(x=np.array(Survey_trips_w_dist['sov_dist']), binwidth = 5,\n",
    "#              label='Survey', \n",
    "#              weights = np.array(Survey_trips_w_dist['sample_rate_share']),    ax=ax)\n",
    "# sns.histplot(x=asim_trips_w_dist['sov_dist'], label='asim', binwidth = 5,weights = np.array(asim_trips_w_dist.share)ax=ax, color = 'orange')\n",
    "# ax.legend()\n",
    "# ax.set_xlabel('SOV distance (TAZ-TAZ)', fontsize=13)\n",
    "# ax.set_title('Trip Distance (all trips)', fontsize=15)"
   ]
  },
  {
   "cell_type": "code",
   "execution_count": 103,
   "metadata": {},
   "outputs": [],
   "source": [
    "# fig, ax = plt.subplots(figsize=(15,5))\n",
    "# sns.kdeplot(Survey_disc_trips['sov_dist'], weights=Survey_disc_trips.sample_rate,label='Survey', ax=ax, fill=True)\n",
    "# sns.kdeplot(asim_disc_trips['sov_dist'], label='asim', ax=ax, fill=True)\n",
    "# ax.legend()\n",
    "# ax.set_xlabel('SOV distance (TAZ-TAZ)', fontsize=13)\n",
    "# ax.set_title('Trip Distance (non-tour-OD trips)', fontsize=15)"
   ]
  },
  {
   "cell_type": "code",
   "execution_count": 104,
   "metadata": {},
   "outputs": [],
   "source": [
    "# print(\"Out-direction distance = dist_ik + dist_kj - dist_ij where: dist_ik = distance from last known origin to stop location dist_kj = distance from stop location to primary destination (outbound stops) or tour origin (inbound stops) dist_ij = distance from tour origin to tour primary destination (outbound stops) or from tour primary destination to tour origin (inbound stops). \\nFor first stop in outbound direction, last known location is tour origin. \\nFor subsequent stops, it is location of last stop in order from origin to primary destination. \\nFor first stop in inbound direction, last known location is tour primary destination. \\nFor subsequent stops it is location of last stop in order from primary destination to origin.\")"
   ]
  },
  {
   "cell_type": "markdown",
   "metadata": {},
   "source": [
    "<!-- ### Trip Out of Direction Distance -->"
   ]
  },
  {
   "cell_type": "code",
   "execution_count": 105,
   "metadata": {},
   "outputs": [],
   "source": [
    "asim_uniq_trip_ods = asim_trips[['orig_taz', 'dest_taz']].drop_duplicates()\n",
    "asim_uniq_trip_ods['sov_dist'] = skims['SOV_NT_M_DIST__EA'][asim_uniq_trip_ods['orig_taz'].values - 1, asim_uniq_trip_ods['dest_taz'].values - 1]\n",
    "\n",
    "Survey_uniq_trip_ods = Survey_trips[['orig_taz', 'dest_taz']].drop_duplicates()\n",
    "Survey_uniq_trip_ods['sov_dist'] = skims['SOV_NT_M_DIST__EA'][Survey_uniq_trip_ods['orig_taz'].values - 1, Survey_uniq_trip_ods['dest_taz'].values - 1]\n",
    "\n",
    "asim_trips_w_dist = asim_trips.merge(asim_uniq_trip_ods, left_on=['orig_taz', 'dest_taz'], right_on=['orig_taz','dest_taz'])\n",
    "Survey_trips_w_dist = Survey_trips.merge(Survey_uniq_trip_ods, left_on=['orig_taz','dest_taz'], right_on=['orig_taz','dest_taz'])"
   ]
  },
  {
   "cell_type": "code",
   "execution_count": 106,
   "metadata": {},
   "outputs": [],
   "source": [
    "Survey_trips_w_dist['outtrips'] = Survey_trips_w_dist.stop_frequency.map(lambda x: int(x[0]))\n",
    "Survey_trips_w_dist['intrips'] = Survey_trips_w_dist.stop_frequency.map(lambda x: int(x.split('_')[1][0]))\n",
    "Survey_trips_w_dist['outbound'] = 0\n",
    "Survey_trips_w_dist = Survey_trips_w_dist.merge(Survey_tours[['tour_id','orig_taz','dest_taz']], how = 'left', on = 'tour_id',suffixes = ['','_tour'])\n",
    "Survey_trips_w_dist.loc[Survey_trips_w_dist.trip_count -1 == Survey_trips_w_dist['outtrips'], 'outbound'] = 1\n",
    "\n",
    "Survey_uniq_ods['tour_sov_dist_inbound'] = skims['SOV_NT_M_DIST__EA'][Survey_uniq_ods['dest_taz'].values - 1, Survey_uniq_ods['orig_taz'].values - 1]\n",
    "\n",
    "Survey_trips_w_dist = Survey_trips_w_dist.merge(Survey_uniq_ods[['orig_taz','dest_taz','sov_dist','tour_sov_dist_inbound']].rename(columns = {'sov_dist':'tour_sov_dist','dest_taz':'dest_taz_tour','orig_taz':'orig_taz_tour'}), how = 'left',on=['orig_taz_tour', 'dest_taz_tour'])\n",
    "\n",
    "# asim_uniq_trip_ods = asim_trips[['orig_taz', 'dest_taz']].drop_duplicates()\n",
    "# asim_uniq_trip_ods['sov_dist'] = skims['SOV_NT_M_DIST__EA'][asim_uniq_trip_ods['orig_taz'].values - 1, asim_uniq_trip_ods['dest_taz'].values - 1]\n",
    "\n",
    "\n",
    "\n",
    "Survey_trips_uniq_outkj = Survey_trips_w_dist[['dest_taz','dest_taz_tour',]].drop_duplicates()\n",
    "Survey_trips_uniq_inkj = Survey_trips_w_dist[['dest_taz','orig_taz_tour']].drop_duplicates()\n",
    "\n",
    "Survey_trips_uniq_outkj['outbound_kj'] = skims['SOV_NT_M_DIST__EA'][Survey_trips_uniq_outkj['dest_taz'].values - 1, Survey_trips_uniq_outkj['dest_taz_tour'].values - 1]\n",
    "Survey_trips_uniq_inkj['inbound_kj'] = skims['SOV_NT_M_DIST__EA'][Survey_trips_uniq_inkj['dest_taz'].values - 1, Survey_trips_uniq_inkj['orig_taz_tour'].values - 1]\n",
    "Survey_trips_uniq_outkj['outbound'] = 1\n",
    "Survey_trips_uniq_inkj['outbound'] = 0\n",
    "\n",
    "Survey_trips_w_dist = Survey_trips_w_dist.merge(Survey_trips_uniq_outkj, how = 'left', on = ['dest_taz','dest_taz_tour','outbound'])\n",
    "Survey_trips_w_dist = Survey_trips_w_dist.merge(Survey_trips_uniq_inkj, how = 'left', on = ['dest_taz','orig_taz_tour','outbound'])\n",
    "\n",
    "Survey_trips_w_dist.loc[Survey_trips_w_dist.outbound == 1 , 'outdirection'] = Survey_trips_w_dist.loc[Survey_trips_w_dist.outbound == 1]['sov_dist'] + Survey_trips_w_dist.loc[Survey_trips_w_dist.outbound == 1]['outbound_kj'] - Survey_trips_w_dist.loc[Survey_trips_w_dist.outbound == 1]['tour_sov_dist']\n",
    "Survey_trips_w_dist.loc[Survey_trips_w_dist.outbound == 0 , 'outdirection'] = Survey_trips_w_dist.loc[Survey_trips_w_dist.outbound == 1]['sov_dist'] + Survey_trips_w_dist.loc[Survey_trips_w_dist.outbound == 1]['inbound_kj'] -Survey_trips_w_dist.loc[Survey_trips_w_dist.outbound == 1]['tour_sov_dist_inbound']\n",
    "\n",
    "Survey_trips_w_dist = Survey_trips_w_dist[(Survey_trips_w_dist.dest_taz != Survey_trips_w_dist.orig_taz_tour) &(Survey_trips_w_dist.dest_taz != Survey_trips_w_dist.dest_taz_tour)]"
   ]
  },
  {
   "cell_type": "code",
   "execution_count": 107,
   "metadata": {},
   "outputs": [],
   "source": [
    "asim_trips_w_dist['outtrips'] = asim_trips_w_dist.stop_frequency.map(lambda x: int(x[0]))\n",
    "asim_trips_w_dist['intrips'] = asim_trips_w_dist.stop_frequency.map(lambda x: int(x.split('_')[1][0]))\n",
    "asim_trips_w_dist['outbound'] = 0\n",
    "asim_trips_w_dist = asim_trips_w_dist.merge(asim_tours[['tour_id','orig_taz','dest_taz']], how = 'left', on = 'tour_id',suffixes = ['','_tour'])\n",
    "asim_trips_w_dist.loc[asim_trips_w_dist.trip_count -1 == asim_trips_w_dist['outtrips'], 'outbound'] = 1\n",
    "\n",
    "asim_uniq_ods['tour_sov_dist_inbound'] = skims['SOV_NT_M_DIST__EA'][asim_uniq_ods['dest_taz'].values - 1, asim_uniq_ods['orig_taz'].values - 1]\n",
    "\n",
    "asim_trips_w_dist = asim_trips_w_dist.merge(asim_uniq_ods[['orig_taz','dest_taz','sov_dist','tour_sov_dist_inbound']].rename(columns = {'sov_dist':'tour_sov_dist','dest_taz':'dest_taz_tour','orig_taz':'orig_taz_tour'}), how = 'left',on=['orig_taz_tour', 'dest_taz_tour'])\n",
    "\n",
    "# asim_uniq_trip_ods = asim_trips[['orig_taz', 'dest_taz']].drop_duplicates()\n",
    "# asim_uniq_trip_ods['sov_dist'] = skims['SOV_NT_M_DIST__EA'][asim_uniq_trip_ods['orig_taz'].values - 1, asim_uniq_trip_ods['dest_taz'].values - 1]\n",
    "\n",
    "\n",
    "\n",
    "asim_trips_uniq_outkj = asim_trips_w_dist[['dest_taz','dest_taz_tour',]].drop_duplicates()\n",
    "asim_trips_uniq_inkj = asim_trips_w_dist[['dest_taz','orig_taz_tour']].drop_duplicates()\n",
    "\n",
    "asim_trips_uniq_outkj['outbound_kj'] = skims['SOV_NT_M_DIST__EA'][asim_trips_uniq_outkj['dest_taz'].values - 1, asim_trips_uniq_outkj['dest_taz_tour'].values - 1]\n",
    "asim_trips_uniq_inkj['inbound_kj'] = skims['SOV_NT_M_DIST__EA'][asim_trips_uniq_inkj['dest_taz'].values - 1, asim_trips_uniq_inkj['orig_taz_tour'].values - 1]\n",
    "asim_trips_uniq_outkj['outbound'] = 1\n",
    "asim_trips_uniq_inkj['outbound'] = 0\n",
    "\n",
    "asim_trips_w_dist = asim_trips_w_dist.merge(asim_trips_uniq_outkj, how = 'left', on = ['dest_taz','dest_taz_tour','outbound'])\n",
    "asim_trips_w_dist = asim_trips_w_dist.merge(asim_trips_uniq_inkj, how = 'left', on = ['dest_taz','orig_taz_tour','outbound'])\n",
    "\n",
    "asim_trips_w_dist.loc[asim_trips_w_dist.outbound == 1 , 'outdirection'] = asim_trips_w_dist.loc[asim_trips_w_dist.outbound == 1]['sov_dist'] + asim_trips_w_dist.loc[asim_trips_w_dist.outbound == 1]['outbound_kj'] - asim_trips_w_dist.loc[asim_trips_w_dist.outbound == 1]['tour_sov_dist']\n",
    "asim_trips_w_dist.loc[asim_trips_w_dist.outbound == 0 , 'outdirection'] = asim_trips_w_dist.loc[asim_trips_w_dist.outbound == 1]['sov_dist'] + asim_trips_w_dist.loc[asim_trips_w_dist.outbound == 1]['inbound_kj'] -asim_trips_w_dist.loc[asim_trips_w_dist.outbound == 1]['tour_sov_dist_inbound']\n",
    "\n",
    "asim_trips_w_dist = asim_trips_w_dist[(asim_trips_w_dist.dest_taz != asim_trips_w_dist.orig_taz_tour) &(asim_trips_w_dist.dest_taz != asim_trips_w_dist.dest_taz_tour)]\n"
   ]
  },
  {
   "cell_type": "code",
   "execution_count": 108,
   "metadata": {},
   "outputs": [],
   "source": [
    "\n",
    "# fig, ax = plt.subplots(figsize=(15,5))\n",
    "# sns.kdeplot(Survey_trips_w_dist['outdirection'], label='Survey',weights = Survey_trips_w_dist.sample_rate, ax=ax, fill=True)\n",
    "# sns.kdeplot(asim_trips_w_dist['outdirection'], label='asim', ax=ax, fill=True)\n",
    "# ax.legend()\n",
    "# ax.set_xlabel('Distance', fontsize=13)\n",
    "# ax.set_title('Trip Out-of-Direction Distance (Intermediate Stops)', fontsize=15)"
   ]
  },
  {
   "cell_type": "code",
   "execution_count": 109,
   "metadata": {},
   "outputs": [],
   "source": [
    "# Survey_trips_w_dist_tecate = Survey_trips_w_dist[Survey_trips_w_dist.poe_id == 2]\n",
    "# asim_trips_w_dist_tecate = asim_trips_w_dist[asim_trips_w_dist.poe_id == 2]\n",
    "# fig, ax = plt.subplots(figsize=(15,5))\n",
    "# sns.kdeplot(Survey_trips_w_dist_tecate['outdirection'], label='Survey',weights = Survey_trips_w_dist_tecate.sample_rate, ax=ax, fill=True)\n",
    "# sns.kdeplot(asim_trips_w_dist_tecate['outdirection'], label='asim', ax=ax, fill=True)\n",
    "# ax.legend()\n",
    "# ax.set_xlabel('Distance', fontsize=13)\n",
    "# ax.set_title('Trip Out-of-Direction Distance TECATE (Intermediate Stops)', fontsize=15)"
   ]
  },
  {
   "cell_type": "code",
   "execution_count": 110,
   "metadata": {},
   "outputs": [],
   "source": [
    "# Survey_trips_w_dist_otay = Survey_trips_w_dist[Survey_trips_w_dist.poe_id == 1]\n",
    "# asim_trips_w_dist_otay = asim_trips_w_dist[asim_trips_w_dist.poe_id == 1]\n",
    "# fig, ax = plt.subplots(figsize=(15,5))\n",
    "# sns.kdeplot(Survey_trips_w_dist_otay['outdirection'], label='Survey',weights = Survey_trips_w_dist_otay.sample_rate, ax=ax, fill=True)\n",
    "# sns.kdeplot(asim_trips_w_dist_otay['outdirection'], label='asim', ax=ax, fill=True)\n",
    "# ax.legend()\n",
    "# ax.set_xlabel('Distance', fontsize=13)\n",
    "# ax.set_title('Trip Out-of-Direction Distance OTAY MESA (Intermediate Stops)', fontsize=15)"
   ]
  },
  {
   "cell_type": "code",
   "execution_count": 111,
   "metadata": {},
   "outputs": [],
   "source": [
    "# Survey_trips_w_dist_sanysidro = Survey_trips_w_dist[Survey_trips_w_dist.poe_id == 0]\n",
    "# asim_trips_w_dist_sanysidro = asim_trips_w_dist[asim_trips_w_dist.poe_id == 0]\n",
    "# fig, ax = plt.subplots(figsize=(15,5))\n",
    "# sns.kdeplot(Survey_trips_w_dist_sanysidro['outdirection'], label='Survey',weights = Survey_trips_w_dist_sanysidro.sample_rate, ax=ax, fill=True)\n",
    "# sns.kdeplot(asim_trips_w_dist_sanysidro['outdirection'], label='asim', ax=ax, fill=True)\n",
    "# ax.legend()\n",
    "# ax.set_xlabel('Distance', fontsize=13)\n",
    "# ax.set_title('Trip Out-of-Direction Distance SAN YSIDRO (Intermediate Stops)', fontsize=15)"
   ]
  },
  {
   "cell_type": "code",
   "execution_count": null,
   "metadata": {},
   "outputs": [],
   "source": []
  },
  {
   "cell_type": "code",
   "execution_count": 112,
   "metadata": {},
   "outputs": [],
   "source": [
    "# fig, ax = plt.subplots(figsize=(15,5))\n",
    "# sns.kdeplot(Survey_trips_w_dist['outdirection'], label='Survey',weights = Survey_trips_w_dist.sample_rate, ax=ax, fill=True)\n",
    "# sns.kdeplot(asim_trips_w_dist['outdirection'], label='asim', ax=ax, fill=True)\n",
    "# ax.legend()\n",
    "# ax.set_xlabel('Distance', fontsize=13)\n",
    "# ax.set_title('Trip Out-of-Direction Distance (all trips)', fontsize=15)"
   ]
  },
  {
   "cell_type": "markdown",
   "metadata": {},
   "source": [
    "## Trip Mode"
   ]
  },
  {
   "cell_type": "code",
   "execution_count": 113,
   "metadata": {},
   "outputs": [
    {
     "data": {
      "text/plain": [
       "Text(0.5, 0, 'trip mode')"
      ]
     },
     "execution_count": 113,
     "metadata": {},
     "output_type": "execute_result"
    },
    {
     "data": {
      "image/png": "[encoded data removed]",
      "text/plain": [
       "<Figure size 1080x504 with 1 Axes>"
      ]
     },
     "metadata": {
      "needs_background": "light"
     },
     "output_type": "display_data"
    }
   ],
   "source": [
    "fig, ax = plt.subplots(figsize=(15,7))\n",
    "trip_mode = asim_trips.groupby('trip_mode')[['trip_id']].count()\n",
    "trip_mode['trip_id'] = trip_mode['trip_id']/trip_mode['trip_id'].sum()\n",
    "trip_mode_svy = Survey_trips.groupby('trip_mode')[['sample_rate']].sum()\n",
    "trip_mode_svy['sample_rate'] = trip_mode_svy['sample_rate']/trip_mode_svy['sample_rate'].sum()\n",
    "trip_mode = pd.merge(\n",
    "    trip_mode, trip_mode_svy,\n",
    "    left_index=True, right_index=True, how='outer').reset_index()\n",
    "trip_mode.columns = ['trip_mode','asim','Survey']\n",
    "trip_mode = trip_mode.melt(id_vars='trip_mode',var_name='source',value_name='num_trips')\n",
    "g = sns.barplot(\n",
    "    data=trip_mode.sort_values('source'), x='trip_mode', y='num_trips', \n",
    "    hue='source', ax=ax, alpha=0.6)\n",
    "ax.legend(fontsize=13)\n",
    "ax.set_ylabel('Share of Trips', fontsize=13)\n",
    "ax.set_xlabel('trip mode', fontsize=15)"
   ]
  },
  {
   "cell_type": "markdown",
   "metadata": {},
   "source": [
    "###  Trip Mode by Tour Mode"
   ]
  },
  {
   "cell_type": "code",
   "execution_count": 114,
   "metadata": {},
   "outputs": [],
   "source": [
    "trip_mode = asim_trips.groupby(['trip_mode','tour_mode'])['trip_id'].count().fillna(0)\n",
    "trip_mode = pd.merge(\n",
    "    trip_mode, Survey_trips.groupby(['trip_mode','tour_mode'])['sample_rate'].sum().fillna(0),\n",
    "    left_index=True, right_index=True, how='outer').reset_index()\n",
    "trip_mode.columns = ['trip_mode','tour_mode','asim','Survey']\n",
    "trip_mode_long = trip_mode.melt(id_vars=['trip_mode','tour_mode'],var_name='source',value_name='num_trips').fillna(0)\n",
    "\n",
    "tour_mode_sums = trip_mode_long.groupby(['tour_mode', 'source'])['num_trips'].sum().reset_index()\n",
    "tour_mode_sums.rename(columns={'num_trips': 'total_trips'}, inplace=True)\n",
    "trip_mode_long = trip_mode_long.merge(tour_mode_sums, on=['tour_mode','source'])\n",
    "\n",
    "trip_mode_long['pct_trips'] = trip_mode_long['num_trips'] / trip_mode_long['total_trips']"
   ]
  },
  {
   "cell_type": "code",
   "execution_count": 115,
   "metadata": {},
   "outputs": [],
   "source": [
    "# with sns.plotting_context(\"notebook\",font_scale=1.3):\n",
    "#     g = sns.catplot(\n",
    "#         data=trip_mode_long, x='trip_mode', y='num_trips', col='tour_mode', col_wrap=2, kind='bar',\n",
    "#         hue='source',alpha=0.6, aspect=1.5, facet_kws={'despine':False})\n",
    "#     # g.set_yscale(\"log\")\n",
    "#     g._legend.set_title('')\n",
    "#     plt.setp(g._legend.get_texts(), fontsize=15)\n",
    "#     g.set_axis_labels(\"trip mode\", \"# trips\", fontsize=20)\n",
    "#     g.fig.subplots_adjust(top=0.9)\n",
    "#     g.fig.suptitle('Trip Mode by Tour Mode (total)')\n",
    "#     for ax in g.axes.ravel():\n",
    "#         ax.set_xticklabels(ax.get_xticklabels(), rotation=45, ha='right')"
   ]
  },
  {
   "cell_type": "code",
   "execution_count": 116,
   "metadata": {},
   "outputs": [
    {
     "data": {
      "image/png": "[encoded data removed]",
      "text/plain": [
       "<Figure size 1181.11x720 with 4 Axes>"
      ]
     },
     "metadata": {
      "needs_background": "light"
     },
     "output_type": "display_data"
    }
   ],
   "source": [
    "with sns.plotting_context(\"notebook\",font_scale=1.3):\n",
    "    g = sns.catplot(\n",
    "        data=trip_mode_long.sort_values('source'), x='trip_mode', y='pct_trips', col='tour_mode', col_wrap=2, kind='bar',\n",
    "        hue='source',alpha=0.6, aspect=1.5, facet_kws={'despine':False})\n",
    "    # g.set_yscale(\"log\")\n",
    "    g._legend.set_title('')\n",
    "    plt.setp(g._legend.get_texts(), fontsize=15)\n",
    "    g.set_axis_labels(\"trip mode\", \"% trips\", fontsize=20)\n",
    "    g.fig.subplots_adjust(top=0.9)\n",
    "    g.fig.suptitle('Trip Mode by Tour Mode (%)')\n",
    "    for ax in g.axes.ravel():\n",
    "        ax.set_xticklabels(ax.get_xticklabels(), rotation=45, ha='right')"
   ]
  },
  {
   "cell_type": "code",
   "execution_count": 117,
   "metadata": {},
   "outputs": [],
   "source": [
    "trippurp_calib = trip_mode_long.groupby(['tour_mode','source','trip_mode'],as_index = False)[['pct_trips']].sum()\n",
    "# trippurp_calib.loc[trippurp_calib.tour_type.isin(['visit','other']),'tour_type'] = 'visit_other'\n",
    "trippurp_calib = trippurp_calib.pivot_table(index = ['tour_mode','trip_mode'],\n",
    "                                                                              values = 'pct_trips',\n",
    "                                                                              columns = 'source')\n",
    "trippurp_calib['fac'] = np.log(trippurp_calib['Survey']/trippurp_calib['asim'])\n",
    "trippurp_calib.to_excel(writer,sheet_name = 'trippurp_calib')\n",
    "writer.save()\n",
    "# trippurp_calib.reset_index().groupby('tour_mode')[['Survey','asim']].sum()"
   ]
  },
  {
   "cell_type": "code",
   "execution_count": 118,
   "metadata": {},
   "outputs": [
    {
     "data": {
      "text/html": [
       "<div>\n",
       "<style scoped>\n",
       "    .dataframe tbody tr th:only-of-type {\n",
       "        vertical-align: middle;\n",
       "    }\n",
       "\n",
       "    .dataframe tbody tr th {\n",
       "        vertical-align: top;\n",
       "    }\n",
       "\n",
       "    .dataframe thead th {\n",
       "        text-align: right;\n",
       "    }\n",
       "</style>\n",
       "<table border=\"1\" class=\"dataframe\">\n",
       "  <thead>\n",
       "    <tr style=\"text-align: right;\">\n",
       "      <th></th>\n",
       "      <th>source</th>\n",
       "      <th>Survey</th>\n",
       "      <th>asim</th>\n",
       "      <th>fac</th>\n",
       "    </tr>\n",
       "    <tr>\n",
       "      <th>tour_mode</th>\n",
       "      <th>trip_mode</th>\n",
       "      <th></th>\n",
       "      <th></th>\n",
       "      <th></th>\n",
       "    </tr>\n",
       "  </thead>\n",
       "  <tbody>\n",
       "    <tr>\n",
       "      <th rowspan=\"7\" valign=\"top\">DRIVEALONE</th>\n",
       "      <th>DRIVEALONE</th>\n",
       "      <td>0.8</td>\n",
       "      <td>0.7</td>\n",
       "      <td>0.1</td>\n",
       "    </tr>\n",
       "    <tr>\n",
       "      <th>OTHER</th>\n",
       "      <td>0.0</td>\n",
       "      <td>0.0</td>\n",
       "      <td>inf</td>\n",
       "    </tr>\n",
       "    <tr>\n",
       "      <th>SHARED2</th>\n",
       "      <td>0.1</td>\n",
       "      <td>0.1</td>\n",
       "      <td>-0.0</td>\n",
       "    </tr>\n",
       "    <tr>\n",
       "      <th>SHARED3</th>\n",
       "      <td>0.0</td>\n",
       "      <td>0.0</td>\n",
       "      <td>inf</td>\n",
       "    </tr>\n",
       "    <tr>\n",
       "      <th>TAXI</th>\n",
       "      <td>0.0</td>\n",
       "      <td>0.0</td>\n",
       "      <td>-inf</td>\n",
       "    </tr>\n",
       "    <tr>\n",
       "      <th>WALK</th>\n",
       "      <td>0.1</td>\n",
       "      <td>0.2</td>\n",
       "      <td>-1.0</td>\n",
       "    </tr>\n",
       "    <tr>\n",
       "      <th>WALK_TRANSIT</th>\n",
       "      <td>0.0</td>\n",
       "      <td>0.0</td>\n",
       "      <td>0.1</td>\n",
       "    </tr>\n",
       "    <tr>\n",
       "      <th rowspan=\"6\" valign=\"top\">SHARED2</th>\n",
       "      <th>DRIVEALONE</th>\n",
       "      <td>0.4</td>\n",
       "      <td>0.2</td>\n",
       "      <td>0.4</td>\n",
       "    </tr>\n",
       "    <tr>\n",
       "      <th>SHARED2</th>\n",
       "      <td>0.6</td>\n",
       "      <td>0.4</td>\n",
       "      <td>0.3</td>\n",
       "    </tr>\n",
       "    <tr>\n",
       "      <th>SHARED3</th>\n",
       "      <td>0.0</td>\n",
       "      <td>0.2</td>\n",
       "      <td>-4.9</td>\n",
       "    </tr>\n",
       "    <tr>\n",
       "      <th>TAXI</th>\n",
       "      <td>0.0</td>\n",
       "      <td>0.0</td>\n",
       "      <td>-inf</td>\n",
       "    </tr>\n",
       "    <tr>\n",
       "      <th>WALK</th>\n",
       "      <td>0.0</td>\n",
       "      <td>0.1</td>\n",
       "      <td>-0.8</td>\n",
       "    </tr>\n",
       "    <tr>\n",
       "      <th>WALK_TRANSIT</th>\n",
       "      <td>0.0</td>\n",
       "      <td>0.0</td>\n",
       "      <td>0.2</td>\n",
       "    </tr>\n",
       "    <tr>\n",
       "      <th rowspan=\"5\" valign=\"top\">SHARED3</th>\n",
       "      <th>DRIVEALONE</th>\n",
       "      <td>0.3</td>\n",
       "      <td>0.2</td>\n",
       "      <td>0.3</td>\n",
       "    </tr>\n",
       "    <tr>\n",
       "      <th>OTHER</th>\n",
       "      <td>0.0</td>\n",
       "      <td>0.0</td>\n",
       "      <td>inf</td>\n",
       "    </tr>\n",
       "    <tr>\n",
       "      <th>SHARED3</th>\n",
       "      <td>0.7</td>\n",
       "      <td>0.6</td>\n",
       "      <td>0.1</td>\n",
       "    </tr>\n",
       "    <tr>\n",
       "      <th>WALK</th>\n",
       "      <td>0.1</td>\n",
       "      <td>0.2</td>\n",
       "      <td>-1.1</td>\n",
       "    </tr>\n",
       "    <tr>\n",
       "      <th>WALK_TRANSIT</th>\n",
       "      <td>0.0</td>\n",
       "      <td>0.0</td>\n",
       "      <td>0.1</td>\n",
       "    </tr>\n",
       "    <tr>\n",
       "      <th rowspan=\"6\" valign=\"top\">WALK</th>\n",
       "      <th>DRIVEALONE</th>\n",
       "      <td>0.1</td>\n",
       "      <td>0.0</td>\n",
       "      <td>0.9</td>\n",
       "    </tr>\n",
       "    <tr>\n",
       "      <th>OTHER</th>\n",
       "      <td>0.0</td>\n",
       "      <td>0.0</td>\n",
       "      <td>inf</td>\n",
       "    </tr>\n",
       "    <tr>\n",
       "      <th>SHARED2</th>\n",
       "      <td>0.1</td>\n",
       "      <td>0.0</td>\n",
       "      <td>2.0</td>\n",
       "    </tr>\n",
       "    <tr>\n",
       "      <th>SHARED3</th>\n",
       "      <td>0.1</td>\n",
       "      <td>0.0</td>\n",
       "      <td>2.3</td>\n",
       "    </tr>\n",
       "    <tr>\n",
       "      <th>WALK</th>\n",
       "      <td>0.4</td>\n",
       "      <td>0.9</td>\n",
       "      <td>-0.7</td>\n",
       "    </tr>\n",
       "    <tr>\n",
       "      <th>WALK_TRANSIT</th>\n",
       "      <td>0.3</td>\n",
       "      <td>0.1</td>\n",
       "      <td>1.6</td>\n",
       "    </tr>\n",
       "  </tbody>\n",
       "</table>\n",
       "</div>"
      ],
      "text/plain": [
       "source                   Survey  asim  fac\n",
       "tour_mode  trip_mode                      \n",
       "DRIVEALONE DRIVEALONE       0.8   0.7  0.1\n",
       "           OTHER            0.0   0.0  inf\n",
       "           SHARED2          0.1   0.1 -0.0\n",
       "           SHARED3          0.0   0.0  inf\n",
       "           TAXI             0.0   0.0 -inf\n",
       "           WALK             0.1   0.2 -1.0\n",
       "           WALK_TRANSIT     0.0   0.0  0.1\n",
       "SHARED2    DRIVEALONE       0.4   0.2  0.4\n",
       "           SHARED2          0.6   0.4  0.3\n",
       "           SHARED3          0.0   0.2 -4.9\n",
       "           TAXI             0.0   0.0 -inf\n",
       "           WALK             0.0   0.1 -0.8\n",
       "           WALK_TRANSIT     0.0   0.0  0.2\n",
       "SHARED3    DRIVEALONE       0.3   0.2  0.3\n",
       "           OTHER            0.0   0.0  inf\n",
       "           SHARED3          0.7   0.6  0.1\n",
       "           WALK             0.1   0.2 -1.1\n",
       "           WALK_TRANSIT     0.0   0.0  0.1\n",
       "WALK       DRIVEALONE       0.1   0.0  0.9\n",
       "           OTHER            0.0   0.0  inf\n",
       "           SHARED2          0.1   0.0  2.0\n",
       "           SHARED3          0.1   0.0  2.3\n",
       "           WALK             0.4   0.9 -0.7\n",
       "           WALK_TRANSIT     0.3   0.1  1.6"
      ]
     },
     "execution_count": 118,
     "metadata": {},
     "output_type": "execute_result"
    }
   ],
   "source": [
    "trippurp_calib\n"
   ]
  },
  {
   "cell_type": "code",
   "execution_count": 119,
   "metadata": {},
   "outputs": [],
   "source": [
    "writer.close()"
   ]
  },
  {
   "cell_type": "markdown",
   "metadata": {},
   "source": [
    "<!-- ### Trip Distance by Trip Mode -->"
   ]
  },
  {
   "cell_type": "code",
   "execution_count": 120,
   "metadata": {},
   "outputs": [],
   "source": [
    "asim_trips_w_dist['sample_rate'] = 1\n",
    "trip_dist_by_mode = pd.concat(\n",
    "    (asim_trips_w_dist[['trip_mode','sov_dist','source','sample_rate']], Survey_trips_w_dist[['trip_mode','sov_dist','source','sample_rate']]), names=['asim','Survey'])"
   ]
  },
  {
   "cell_type": "code",
   "execution_count": 121,
   "metadata": {
    "scrolled": false
   },
   "outputs": [],
   "source": [
    "\n",
    "# with sns.plotting_context(\"notebook\",font_scale=1):\n",
    "#     g = sns.FacetGrid(trip_dist_by_mode.sort_values('source'), col=\"trip_mode\", col_wrap=2, hue='source',\n",
    "#                       height=4, aspect=1.5,sharex=False, sharey=False, despine=False)\n",
    "#     g.map(sns.kdeplot, \"sov_dist\", fill=True, alpha=0.4)\n",
    "#     g.set_titles(col_template=\"{col_name}\")\n",
    "#     g.set_axis_labels(\"SOV distance (TAZ-TAZ)\", \"density\", fontsize=16)\n",
    "#     g.add_legend()\n",
    "#     g.fig.subplots_adjust(top=0.95)\n",
    "#     g.fig.suptitle('Trip Distance by Trip Mode',fontsize=20)"
   ]
  },
  {
   "cell_type": "code",
   "execution_count": null,
   "metadata": {},
   "outputs": [],
   "source": []
  }
 ],
 "metadata": {
  "hide_input": false,
  "kernelspec": {
   "display_name": "Python 3 (ipykernel)",
   "language": "python",
   "name": "python3"
  },
  "language_info": {
   "codemirror_mode": {
    "name": "ipython",
    "version": 3
   },
   "file_extension": ".py",
   "mimetype": "text/x-python",
   "name": "python",
   "nbconvert_exporter": "python",
   "pygments_lexer": "ipython3",
   "version": "3.9.7"
  },
  "toc": {
   "base_numbering": 1,
   "nav_menu": {
    "height": "258px",
    "width": "160px"
   },
   "number_sections": true,
   "sideBar": true,
   "skip_h1_title": false,
   "title_cell": "Table of Contents",
   "title_sidebar": "Contents",
   "toc_cell": true,
   "toc_position": {},
   "toc_section_display": true,
   "toc_window_display": false
  }
 },
 "nbformat": 4,
 "nbformat_minor": 4
}
