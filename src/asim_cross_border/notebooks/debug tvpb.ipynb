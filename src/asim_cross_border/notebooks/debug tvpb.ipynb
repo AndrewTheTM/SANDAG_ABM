{
 "cells": [
  {
   "cell_type": "markdown",
   "id": "eabf0821",
   "metadata": {
    "toc": true
   },
   "source": [
    "<h1>Table of Contents<span class=\"tocSkip\"></span></h1>\n",
    "<div class=\"toc\"><ul class=\"toc-item\"><li><span><a href=\"#1.-initialize-TVPB-(all-tap-tap)\" data-toc-modified-id=\"1.-initialize-TVPB-(all-tap-tap)-1\"><span class=\"toc-item-num\">1&nbsp;&nbsp;</span>1. initialize TVPB (all tap-tap)</a></span><ul class=\"toc-item\"><li><span><a href=\"#unique-ASC-sequentially-defined-values-by-set\" data-toc-modified-id=\"unique-ASC-sequentially-defined-values-by-set-1.1\"><span class=\"toc-item-num\">1.1&nbsp;&nbsp;</span>unique ASC sequentially-defined values by set</a></span><ul class=\"toc-item\"><li><span><a href=\"#set-1\" data-toc-modified-id=\"set-1-1.1.1\"><span class=\"toc-item-num\">1.1.1&nbsp;&nbsp;</span>set 1</a></span></li><li><span><a href=\"#set-2\" data-toc-modified-id=\"set-2-1.1.2\"><span class=\"toc-item-num\">1.1.2&nbsp;&nbsp;</span>set 2</a></span></li><li><span><a href=\"#set-3\" data-toc-modified-id=\"set-3-1.1.3\"><span class=\"toc-item-num\">1.1.3&nbsp;&nbsp;</span>set 3</a></span></li></ul></li></ul></li><li><span><a href=\"#2.-TVPB-ASC's:-Trip-Mode-Choice-(trace-hh-id-=-15)\" data-toc-modified-id=\"2.-TVPB-ASC's:-Trip-Mode-Choice-(trace-hh-id-=-15)-2\"><span class=\"toc-item-num\">2&nbsp;&nbsp;</span>2. TVPB ASC's: Trip Mode Choice (trace hh id = 15)</a></span><ul class=\"toc-item\"><li><span><a href=\"#Unique-ASC-sequences-by-set-(preprocessor)\" data-toc-modified-id=\"Unique-ASC-sequences-by-set-(preprocessor)-2.1\"><span class=\"toc-item-num\">2.1&nbsp;&nbsp;</span>Unique ASC sequences by set (preprocessor)</a></span></li><li><span><a href=\"#utility-df's-by-set\" data-toc-modified-id=\"utility-df's-by-set-2.2\"><span class=\"toc-item-num\">2.2&nbsp;&nbsp;</span>utility df's by set</a></span></li><li><span><a href=\"#Merge-unique-ASC-sequences-(preprocessor)-with-utility-df's\" data-toc-modified-id=\"Merge-unique-ASC-sequences-(preprocessor)-with-utility-df's-2.3\"><span class=\"toc-item-num\">2.3&nbsp;&nbsp;</span>Merge unique ASC sequences (preprocessor) with utility df's</a></span><ul class=\"toc-item\"><li><span><a href=\"#set-1\" data-toc-modified-id=\"set-1-2.3.1\"><span class=\"toc-item-num\">2.3.1&nbsp;&nbsp;</span>set 1</a></span></li><li><span><a href=\"#set-2\" data-toc-modified-id=\"set-2-2.3.2\"><span class=\"toc-item-num\">2.3.2&nbsp;&nbsp;</span>set 2</a></span></li><li><span><a href=\"#set-3\" data-toc-modified-id=\"set-3-2.3.3\"><span class=\"toc-item-num\">2.3.3&nbsp;&nbsp;</span>set 3</a></span></li></ul></li></ul></li></ul></div>"
   ]
  },
  {
   "cell_type": "code",
   "execution_count": 1,
   "id": "015c1fa0",
   "metadata": {},
   "outputs": [],
   "source": [
    "import pandas as pd"
   ]
  },
  {
   "cell_type": "markdown",
   "id": "1622209b",
   "metadata": {},
   "source": [
    "## 1. initialize TVPB (all tap-tap)"
   ]
  },
  {
   "cell_type": "code",
   "execution_count": 24,
   "id": "c42637ff",
   "metadata": {},
   "outputs": [],
   "source": [
    "df = pd.read_csv(\n",
    "    '../output/trace.initialize_tvpb.offset0.compute_utils.tap_tap_w_preprocessor_expr_vals.csv'\n",
    ")"
   ]
  },
  {
   "cell_type": "markdown",
   "id": "db23f216",
   "metadata": {},
   "source": [
    "### unique ASC sequentially-defined values by set"
   ]
  },
  {
   "cell_type": "markdown",
   "id": "a1e5f149",
   "metadata": {},
   "source": [
    "#### set 1"
   ]
  },
  {
   "cell_type": "code",
   "execution_count": 26,
   "id": "1014df50",
   "metadata": {},
   "outputs": [
    {
     "data": {
      "text/html": [
       "<div>\n",
       "<style scoped>\n",
       "    .dataframe tbody tr th:only-of-type {\n",
       "        vertical-align: middle;\n",
       "    }\n",
       "\n",
       "    .dataframe tbody tr th {\n",
       "        vertical-align: top;\n",
       "    }\n",
       "\n",
       "    .dataframe thead th {\n",
       "        text-align: right;\n",
       "    }\n",
       "</style>\n",
       "<table border=\"1\" class=\"dataframe\">\n",
       "  <thead>\n",
       "    <tr style=\"text-align: right;\">\n",
       "      <th></th>\n",
       "      <th>asc_cr_set1</th>\n",
       "      <th>asc_lrt_set1</th>\n",
       "      <th>asc_brt_set1</th>\n",
       "      <th>asc_eb_set1</th>\n",
       "    </tr>\n",
       "  </thead>\n",
       "  <tbody>\n",
       "    <tr>\n",
       "      <th>0</th>\n",
       "      <td>0.0</td>\n",
       "      <td>0.0</td>\n",
       "      <td>0.0</td>\n",
       "      <td>0.0</td>\n",
       "    </tr>\n",
       "  </tbody>\n",
       "</table>\n",
       "</div>"
      ],
      "text/plain": [
       "   asc_cr_set1  asc_lrt_set1  asc_brt_set1  asc_eb_set1\n",
       "0          0.0           0.0           0.0          0.0"
      ]
     },
     "execution_count": 26,
     "metadata": {},
     "output_type": "execute_result"
    }
   ],
   "source": [
    "df[[col for col in df.columns if 'asc' in col and 'set1' in col]].drop_duplicates()"
   ]
  },
  {
   "cell_type": "markdown",
   "id": "34b0aa26",
   "metadata": {},
   "source": [
    "#### set 2"
   ]
  },
  {
   "cell_type": "code",
   "execution_count": 27,
   "id": "a01c0f85",
   "metadata": {},
   "outputs": [
    {
     "data": {
      "text/html": [
       "<div>\n",
       "<style scoped>\n",
       "    .dataframe tbody tr th:only-of-type {\n",
       "        vertical-align: middle;\n",
       "    }\n",
       "\n",
       "    .dataframe tbody tr th {\n",
       "        vertical-align: top;\n",
       "    }\n",
       "\n",
       "    .dataframe thead th {\n",
       "        text-align: right;\n",
       "    }\n",
       "</style>\n",
       "<table border=\"1\" class=\"dataframe\">\n",
       "  <thead>\n",
       "    <tr style=\"text-align: right;\">\n",
       "      <th></th>\n",
       "      <th>asc_cr_set2</th>\n",
       "      <th>asc_lrt_set2</th>\n",
       "      <th>asc_brt_set2</th>\n",
       "      <th>asc_eb_set2</th>\n",
       "    </tr>\n",
       "  </thead>\n",
       "  <tbody>\n",
       "    <tr>\n",
       "      <th>0</th>\n",
       "      <td>0.0</td>\n",
       "      <td>0.00</td>\n",
       "      <td>0.00</td>\n",
       "      <td>0.00</td>\n",
       "    </tr>\n",
       "    <tr>\n",
       "      <th>8674</th>\n",
       "      <td>0.0</td>\n",
       "      <td>0.00</td>\n",
       "      <td>0.28</td>\n",
       "      <td>0.28</td>\n",
       "    </tr>\n",
       "    <tr>\n",
       "      <th>8806</th>\n",
       "      <td>0.0</td>\n",
       "      <td>0.56</td>\n",
       "      <td>0.56</td>\n",
       "      <td>0.56</td>\n",
       "    </tr>\n",
       "    <tr>\n",
       "      <th>24432</th>\n",
       "      <td>-0.0</td>\n",
       "      <td>0.00</td>\n",
       "      <td>0.00</td>\n",
       "      <td>-0.28</td>\n",
       "    </tr>\n",
       "  </tbody>\n",
       "</table>\n",
       "</div>"
      ],
      "text/plain": [
       "       asc_cr_set2  asc_lrt_set2  asc_brt_set2  asc_eb_set2\n",
       "0              0.0          0.00          0.00         0.00\n",
       "8674           0.0          0.00          0.28         0.28\n",
       "8806           0.0          0.56          0.56         0.56\n",
       "24432         -0.0          0.00          0.00        -0.28"
      ]
     },
     "execution_count": 27,
     "metadata": {},
     "output_type": "execute_result"
    }
   ],
   "source": [
    "df[[col for col in df.columns if 'asc' in col and 'set2' in col]].drop_duplicates()"
   ]
  },
  {
   "cell_type": "markdown",
   "id": "52df9284",
   "metadata": {},
   "source": [
    "#### set 3"
   ]
  },
  {
   "cell_type": "code",
   "execution_count": 28,
   "id": "749dad32",
   "metadata": {},
   "outputs": [
    {
     "data": {
      "text/html": [
       "<div>\n",
       "<style scoped>\n",
       "    .dataframe tbody tr th:only-of-type {\n",
       "        vertical-align: middle;\n",
       "    }\n",
       "\n",
       "    .dataframe tbody tr th {\n",
       "        vertical-align: top;\n",
       "    }\n",
       "\n",
       "    .dataframe thead th {\n",
       "        text-align: right;\n",
       "    }\n",
       "</style>\n",
       "<table border=\"1\" class=\"dataframe\">\n",
       "  <thead>\n",
       "    <tr style=\"text-align: right;\">\n",
       "      <th></th>\n",
       "      <th>asc_cr_set3</th>\n",
       "      <th>asc_lrt_set3</th>\n",
       "      <th>asc_brt_set3</th>\n",
       "      <th>asc_eb_set3</th>\n",
       "    </tr>\n",
       "  </thead>\n",
       "  <tbody>\n",
       "    <tr>\n",
       "      <th>0</th>\n",
       "      <td>0.0</td>\n",
       "      <td>0.00</td>\n",
       "      <td>0.00</td>\n",
       "      <td>0.00</td>\n",
       "    </tr>\n",
       "    <tr>\n",
       "      <th>1</th>\n",
       "      <td>0.0</td>\n",
       "      <td>0.56</td>\n",
       "      <td>0.56</td>\n",
       "      <td>0.56</td>\n",
       "    </tr>\n",
       "    <tr>\n",
       "      <th>3</th>\n",
       "      <td>0.0</td>\n",
       "      <td>0.00</td>\n",
       "      <td>0.00</td>\n",
       "      <td>-0.28</td>\n",
       "    </tr>\n",
       "    <tr>\n",
       "      <th>5</th>\n",
       "      <td>0.0</td>\n",
       "      <td>0.00</td>\n",
       "      <td>0.28</td>\n",
       "      <td>0.28</td>\n",
       "    </tr>\n",
       "  </tbody>\n",
       "</table>\n",
       "</div>"
      ],
      "text/plain": [
       "   asc_cr_set3  asc_lrt_set3  asc_brt_set3  asc_eb_set3\n",
       "0          0.0          0.00          0.00         0.00\n",
       "1          0.0          0.56          0.56         0.56\n",
       "3          0.0          0.00          0.00        -0.28\n",
       "5          0.0          0.00          0.28         0.28"
      ]
     },
     "execution_count": 28,
     "metadata": {},
     "output_type": "execute_result"
    }
   ],
   "source": [
    "df[[col for col in df.columns if 'asc' in col and 'set3' in col]].drop_duplicates()"
   ]
  },
  {
   "cell_type": "markdown",
   "id": "971b4a7d",
   "metadata": {},
   "source": [
    "## 2. TVPB ASC's: Trip Mode Choice (trace hh id = 15)"
   ]
  },
  {
   "cell_type": "markdown",
   "id": "b292c901",
   "metadata": {},
   "source": [
    "### Unique ASC sequences by set (preprocessor)"
   ]
  },
  {
   "cell_type": "code",
   "execution_count": 44,
   "id": "3e3888a2",
   "metadata": {},
   "outputs": [],
   "source": [
    "df = pd.read_csv(\n",
    "    '../output/trace.trip_mode_choice.tvpb_logsum_odt.work.WTW.build_virtual_path.compute_tap_tap_utils.compute_utils.tap_tap_w_preprocessor_expr_vals.csv',\n",
    "    index_col=0,\n",
    ")"
   ]
  },
  {
   "cell_type": "code",
   "execution_count": 134,
   "id": "069ccc63",
   "metadata": {},
   "outputs": [],
   "source": [
    "set1_tap_tap_uniq_asc = df.set_index(['btap','atap','tod'])[[col for col in df.columns if 'asc' in col and 'set1' in col]].drop_duplicates()\n",
    "set2_tap_tap_uniq_asc = df.set_index(['btap','atap','tod'])[[col for col in df.columns if 'asc' in col and 'set2' in col]].drop_duplicates()\n",
    "set3_tap_tap_uniq_asc = df.set_index(['btap','atap','tod'])[[col for col in df.columns if 'asc' in col and 'set3' in col]].drop_duplicates()"
   ]
  },
  {
   "cell_type": "markdown",
   "id": "73d9b4c3",
   "metadata": {},
   "source": [
    "### utility df's by set"
   ]
  },
  {
   "cell_type": "code",
   "execution_count": 118,
   "id": "9f5b8657",
   "metadata": {},
   "outputs": [],
   "source": [
    "util_df = pd.read_csv(\n",
    "    '../output/trace.trip_mode_choice.tvpb_logsum_odt.work.WTW.build_virtual_path.compute_tap_tap_utils.compute_utils.tap_tap_w_preprocessor_expr_vals.eval_utils.expression_values.csv',\n",
    "    index_col=0, header=None, \n",
    ")"
   ]
  },
  {
   "cell_type": "code",
   "execution_count": 119,
   "id": "03f66d4e",
   "metadata": {},
   "outputs": [],
   "source": [
    "util_df.loc[util_df[1].isnull(), 1] = util_df.index.values[util_df[1].isnull()]\n",
    "util_df.set_index(1, inplace=True)\n",
    "util_df = util_df.T"
   ]
  },
  {
   "cell_type": "code",
   "execution_count": 122,
   "id": "f4ad8152",
   "metadata": {},
   "outputs": [],
   "source": [
    "util_df['btap'] = util_df['btap'].astype(int)\n",
    "util_df['atap'] = util_df['atap'].astype(int)\n",
    "util_df = util_df.set_index(['btap','atap','tod'])"
   ]
  },
  {
   "cell_type": "code",
   "execution_count": 123,
   "id": "d32a1abc",
   "metadata": {},
   "outputs": [],
   "source": [
    "set1_util_df = util_df[[col for col in util_df.columns if 'set1' in col]].astype(float)\n",
    "set2_util_df = util_df[[col for col in util_df.columns if 'set2' in col]].astype(float)\n",
    "set3_util_df = util_df[[col for col in util_df.columns if 'set3' in col]].astype(float)"
   ]
  },
  {
   "cell_type": "markdown",
   "id": "f5284bea",
   "metadata": {},
   "source": [
    "### Merge unique ASC sequences (preprocessor) with utility df's"
   ]
  },
  {
   "cell_type": "markdown",
   "id": "a158ad1c",
   "metadata": {},
   "source": [
    "#### set 1"
   ]
  },
  {
   "cell_type": "code",
   "execution_count": 137,
   "id": "c2939b49",
   "metadata": {},
   "outputs": [
    {
     "data": {
      "text/html": [
       "<div>\n",
       "<style scoped>\n",
       "    .dataframe tbody tr th:only-of-type {\n",
       "        vertical-align: middle;\n",
       "    }\n",
       "\n",
       "    .dataframe tbody tr th {\n",
       "        vertical-align: top;\n",
       "    }\n",
       "\n",
       "    .dataframe thead th {\n",
       "        text-align: right;\n",
       "    }\n",
       "</style>\n",
       "<table border=\"1\" class=\"dataframe\">\n",
       "  <thead>\n",
       "    <tr style=\"text-align: right;\">\n",
       "      <th></th>\n",
       "      <th>btap</th>\n",
       "      <th>atap</th>\n",
       "      <th>tod</th>\n",
       "      <th>asc_cr_set1</th>\n",
       "      <th>asc_lrt_set1</th>\n",
       "      <th>asc_brt_set1</th>\n",
       "      <th>asc_eb_set1</th>\n",
       "      <th>set1_ASC</th>\n",
       "    </tr>\n",
       "  </thead>\n",
       "  <tbody>\n",
       "    <tr>\n",
       "      <th>0</th>\n",
       "      <td>2477</td>\n",
       "      <td>1238</td>\n",
       "      <td>MD</td>\n",
       "      <td>0.0</td>\n",
       "      <td>0.0</td>\n",
       "      <td>0.0</td>\n",
       "      <td>0.0</td>\n",
       "      <td>0.0</td>\n",
       "    </tr>\n",
       "  </tbody>\n",
       "</table>\n",
       "</div>"
      ],
      "text/plain": [
       "   btap  atap tod  asc_cr_set1  asc_lrt_set1  asc_brt_set1  asc_eb_set1  \\\n",
       "0  2477  1238  MD          0.0           0.0           0.0          0.0   \n",
       "\n",
       "   set1_ASC  \n",
       "0       0.0  "
      ]
     },
     "execution_count": 137,
     "metadata": {},
     "output_type": "execute_result"
    }
   ],
   "source": [
    "set1_merged = pd.merge(set1_tap_tap_uniq_asc, set1_util_df, left_index=True, right_index=True)\n",
    "set1_merged[[col for col in set1_merged if 'asc' in col or 'ASC' in col]].reset_index()"
   ]
  },
  {
   "cell_type": "markdown",
   "id": "df4533c5",
   "metadata": {},
   "source": [
    "#### set 2"
   ]
  },
  {
   "cell_type": "code",
   "execution_count": 136,
   "id": "877bad59",
   "metadata": {},
   "outputs": [
    {
     "data": {
      "text/html": [
       "<div>\n",
       "<style scoped>\n",
       "    .dataframe tbody tr th:only-of-type {\n",
       "        vertical-align: middle;\n",
       "    }\n",
       "\n",
       "    .dataframe tbody tr th {\n",
       "        vertical-align: top;\n",
       "    }\n",
       "\n",
       "    .dataframe thead th {\n",
       "        text-align: right;\n",
       "    }\n",
       "</style>\n",
       "<table border=\"1\" class=\"dataframe\">\n",
       "  <thead>\n",
       "    <tr style=\"text-align: right;\">\n",
       "      <th></th>\n",
       "      <th>btap</th>\n",
       "      <th>atap</th>\n",
       "      <th>tod</th>\n",
       "      <th>asc_cr_set2</th>\n",
       "      <th>asc_lrt_set2</th>\n",
       "      <th>asc_brt_set2</th>\n",
       "      <th>asc_eb_set2</th>\n",
       "      <th>set2_ASC</th>\n",
       "    </tr>\n",
       "  </thead>\n",
       "  <tbody>\n",
       "    <tr>\n",
       "      <th>0</th>\n",
       "      <td>2477</td>\n",
       "      <td>1238</td>\n",
       "      <td>MD</td>\n",
       "      <td>0.0</td>\n",
       "      <td>0.56</td>\n",
       "      <td>0.56</td>\n",
       "      <td>0.56</td>\n",
       "      <td>0.56</td>\n",
       "    </tr>\n",
       "    <tr>\n",
       "      <th>1</th>\n",
       "      <td>2477</td>\n",
       "      <td>1551</td>\n",
       "      <td>MD</td>\n",
       "      <td>0.0</td>\n",
       "      <td>0.00</td>\n",
       "      <td>0.00</td>\n",
       "      <td>0.00</td>\n",
       "      <td>0.00</td>\n",
       "    </tr>\n",
       "  </tbody>\n",
       "</table>\n",
       "</div>"
      ],
      "text/plain": [
       "   btap  atap tod  asc_cr_set2  asc_lrt_set2  asc_brt_set2  asc_eb_set2  \\\n",
       "0  2477  1238  MD          0.0          0.56          0.56         0.56   \n",
       "1  2477  1551  MD          0.0          0.00          0.00         0.00   \n",
       "\n",
       "   set2_ASC  \n",
       "0      0.56  \n",
       "1      0.00  "
      ]
     },
     "execution_count": 136,
     "metadata": {},
     "output_type": "execute_result"
    }
   ],
   "source": [
    "set2_merged = pd.merge(set2_tap_tap_uniq_asc, set2_util_df, left_index=True, right_index=True)\n",
    "set2_merged[[col for col in set2_merged if 'asc' in col or 'ASC' in col]].reset_index()"
   ]
  },
  {
   "cell_type": "markdown",
   "id": "baaf55fa",
   "metadata": {},
   "source": [
    "#### set 3"
   ]
  },
  {
   "cell_type": "code",
   "execution_count": 138,
   "id": "0c0f3e64",
   "metadata": {},
   "outputs": [
    {
     "data": {
      "text/html": [
       "<div>\n",
       "<style scoped>\n",
       "    .dataframe tbody tr th:only-of-type {\n",
       "        vertical-align: middle;\n",
       "    }\n",
       "\n",
       "    .dataframe tbody tr th {\n",
       "        vertical-align: top;\n",
       "    }\n",
       "\n",
       "    .dataframe thead th {\n",
       "        text-align: right;\n",
       "    }\n",
       "</style>\n",
       "<table border=\"1\" class=\"dataframe\">\n",
       "  <thead>\n",
       "    <tr style=\"text-align: right;\">\n",
       "      <th></th>\n",
       "      <th>btap</th>\n",
       "      <th>atap</th>\n",
       "      <th>tod</th>\n",
       "      <th>asc_cr_set3</th>\n",
       "      <th>asc_lrt_set3</th>\n",
       "      <th>asc_brt_set3</th>\n",
       "      <th>asc_eb_set3</th>\n",
       "      <th>set3_ASC</th>\n",
       "    </tr>\n",
       "  </thead>\n",
       "  <tbody>\n",
       "    <tr>\n",
       "      <th>0</th>\n",
       "      <td>2477</td>\n",
       "      <td>1238</td>\n",
       "      <td>MD</td>\n",
       "      <td>0.0</td>\n",
       "      <td>0.00</td>\n",
       "      <td>0.00</td>\n",
       "      <td>0.00</td>\n",
       "      <td>0.00</td>\n",
       "    </tr>\n",
       "    <tr>\n",
       "      <th>1</th>\n",
       "      <td>2477</td>\n",
       "      <td>1551</td>\n",
       "      <td>MD</td>\n",
       "      <td>0.0</td>\n",
       "      <td>0.56</td>\n",
       "      <td>0.56</td>\n",
       "      <td>0.56</td>\n",
       "      <td>0.28</td>\n",
       "    </tr>\n",
       "    <tr>\n",
       "      <th>2</th>\n",
       "      <td>2477</td>\n",
       "      <td>2402</td>\n",
       "      <td>MD</td>\n",
       "      <td>0.0</td>\n",
       "      <td>0.00</td>\n",
       "      <td>0.00</td>\n",
       "      <td>-0.28</td>\n",
       "      <td>-0.28</td>\n",
       "    </tr>\n",
       "  </tbody>\n",
       "</table>\n",
       "</div>"
      ],
      "text/plain": [
       "   btap  atap tod  asc_cr_set3  asc_lrt_set3  asc_brt_set3  asc_eb_set3  \\\n",
       "0  2477  1238  MD          0.0          0.00          0.00         0.00   \n",
       "1  2477  1551  MD          0.0          0.56          0.56         0.56   \n",
       "2  2477  2402  MD          0.0          0.00          0.00        -0.28   \n",
       "\n",
       "   set3_ASC  \n",
       "0      0.00  \n",
       "1      0.28  \n",
       "2     -0.28  "
      ]
     },
     "execution_count": 138,
     "metadata": {},
     "output_type": "execute_result"
    }
   ],
   "source": [
    "set3_merged = pd.merge(set3_tap_tap_uniq_asc, set3_util_df, left_index=True, right_index=True)\n",
    "set3_merged[[col for col in set3_merged if 'asc' in col or 'ASC' in col]].reset_index()"
   ]
  }
 ],
 "metadata": {
  "hide_input": false,
  "kernelspec": {
   "display_name": "Python [conda env:activitysim] *",
   "language": "python",
   "name": "conda-env-activitysim-py"
  },
  "language_info": {
   "codemirror_mode": {
    "name": "ipython",
    "version": 3
   },
   "file_extension": ".py",
   "mimetype": "text/x-python",
   "name": "python",
   "nbconvert_exporter": "python",
   "pygments_lexer": "ipython3",
   "version": "3.8.5"
  },
  "toc": {
   "base_numbering": 1,
   "nav_menu": {},
   "number_sections": true,
   "sideBar": true,
   "skip_h1_title": false,
   "title_cell": "Table of Contents",
   "title_sidebar": "Contents",
   "toc_cell": true,
   "toc_position": {},
   "toc_section_display": true,
   "toc_window_display": false
  }
 },
 "nbformat": 4,
 "nbformat_minor": 5
}
