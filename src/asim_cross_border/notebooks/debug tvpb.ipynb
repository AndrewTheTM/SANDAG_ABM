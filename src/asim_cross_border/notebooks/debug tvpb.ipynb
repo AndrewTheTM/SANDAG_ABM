{
 "cells": [
  {
   "cell_type": "markdown",
   "id": "b95baa50",
   "metadata": {
    "toc": true
   },
   "source": [
    "<h1>Table of Contents<span class=\"tocSkip\"></span></h1>\n",
    "<div class=\"toc\"><ul class=\"toc-item\"><li><span><a href=\"#initialize-TVPB-(all-tap-tap)\" data-toc-modified-id=\"initialize-TVPB-(all-tap-tap)-1\"><span class=\"toc-item-num\">1&nbsp;&nbsp;</span>initialize TVPB (all tap-tap)</a></span><ul class=\"toc-item\"><li><span><a href=\"#unique-ASC-sequentially-defined-values-by-set\" data-toc-modified-id=\"unique-ASC-sequentially-defined-values-by-set-1.1\"><span class=\"toc-item-num\">1.1&nbsp;&nbsp;</span>unique ASC sequentially-defined values by set</a></span><ul class=\"toc-item\"><li><span><a href=\"#set-1\" data-toc-modified-id=\"set-1-1.1.1\"><span class=\"toc-item-num\">1.1.1&nbsp;&nbsp;</span>set 1</a></span></li><li><span><a href=\"#set-2\" data-toc-modified-id=\"set-2-1.1.2\"><span class=\"toc-item-num\">1.1.2&nbsp;&nbsp;</span>set 2</a></span></li><li><span><a href=\"#set-3\" data-toc-modified-id=\"set-3-1.1.3\"><span class=\"toc-item-num\">1.1.3&nbsp;&nbsp;</span>set 3</a></span></li></ul></li></ul></li><li><span><a href=\"#trip-mode-choice-(trace-hhid-15)\" data-toc-modified-id=\"trip-mode-choice-(trace-hhid-15)-2\"><span class=\"toc-item-num\">2&nbsp;&nbsp;</span>trip mode choice (trace hhid 15)</a></span><ul class=\"toc-item\"><li><span><a href=\"#unique-ASC-sequentially-defined-values-by-set\" data-toc-modified-id=\"unique-ASC-sequentially-defined-values-by-set-2.1\"><span class=\"toc-item-num\">2.1&nbsp;&nbsp;</span>unique ASC sequentially-defined values by set</a></span><ul class=\"toc-item\"><li><span><a href=\"#set-1\" data-toc-modified-id=\"set-1-2.1.1\"><span class=\"toc-item-num\">2.1.1&nbsp;&nbsp;</span>set 1</a></span></li><li><span><a href=\"#set-2\" data-toc-modified-id=\"set-2-2.1.2\"><span class=\"toc-item-num\">2.1.2&nbsp;&nbsp;</span>set 2</a></span></li><li><span><a href=\"#set-3\" data-toc-modified-id=\"set-3-2.1.3\"><span class=\"toc-item-num\">2.1.3&nbsp;&nbsp;</span>set 3</a></span></li></ul></li></ul></li></ul></div>"
   ]
  },
  {
   "cell_type": "code",
   "execution_count": 1,
   "id": "7a0ab9f6",
   "metadata": {},
   "outputs": [],
   "source": [
    "import pandas as pd"
   ]
  },
  {
   "cell_type": "markdown",
   "id": "30ffb43a",
   "metadata": {},
   "source": [
    "## initialize TVPB (all tap-tap)"
   ]
  },
  {
   "cell_type": "code",
   "execution_count": 24,
   "id": "a74e7a73",
   "metadata": {},
   "outputs": [],
   "source": [
    "df = pd.read_csv(\n",
    "    '../output/trace.initialize_tvpb.offset0.compute_utils.tap_tap_w_preprocessor_expr_vals.csv'\n",
    ")"
   ]
  },
  {
   "cell_type": "markdown",
   "id": "bb8b404e",
   "metadata": {},
   "source": [
    "### unique ASC sequentially-defined values by set"
   ]
  },
  {
   "cell_type": "markdown",
   "id": "ef0982a5",
   "metadata": {},
   "source": [
    "#### set 1"
   ]
  },
  {
   "cell_type": "code",
   "execution_count": 26,
   "id": "596bdf79",
   "metadata": {},
   "outputs": [
    {
     "data": {
      "text/html": [
       "<div>\n",
       "<style scoped>\n",
       "    .dataframe tbody tr th:only-of-type {\n",
       "        vertical-align: middle;\n",
       "    }\n",
       "\n",
       "    .dataframe tbody tr th {\n",
       "        vertical-align: top;\n",
       "    }\n",
       "\n",
       "    .dataframe thead th {\n",
       "        text-align: right;\n",
       "    }\n",
       "</style>\n",
       "<table border=\"1\" class=\"dataframe\">\n",
       "  <thead>\n",
       "    <tr style=\"text-align: right;\">\n",
       "      <th></th>\n",
       "      <th>asc_cr_set1</th>\n",
       "      <th>asc_lrt_set1</th>\n",
       "      <th>asc_brt_set1</th>\n",
       "      <th>asc_eb_set1</th>\n",
       "    </tr>\n",
       "  </thead>\n",
       "  <tbody>\n",
       "    <tr>\n",
       "      <th>0</th>\n",
       "      <td>0.0</td>\n",
       "      <td>0.0</td>\n",
       "      <td>0.0</td>\n",
       "      <td>0.0</td>\n",
       "    </tr>\n",
       "  </tbody>\n",
       "</table>\n",
       "</div>"
      ],
      "text/plain": [
       "   asc_cr_set1  asc_lrt_set1  asc_brt_set1  asc_eb_set1\n",
       "0          0.0           0.0           0.0          0.0"
      ]
     },
     "execution_count": 26,
     "metadata": {},
     "output_type": "execute_result"
    }
   ],
   "source": [
    "df[[col for col in df.columns if 'asc' in col and 'set1' in col]].drop_duplicates()"
   ]
  },
  {
   "cell_type": "markdown",
   "id": "153eb008",
   "metadata": {},
   "source": [
    "#### set 2"
   ]
  },
  {
   "cell_type": "code",
   "execution_count": 27,
   "id": "c2e071ff",
   "metadata": {},
   "outputs": [
    {
     "data": {
      "text/html": [
       "<div>\n",
       "<style scoped>\n",
       "    .dataframe tbody tr th:only-of-type {\n",
       "        vertical-align: middle;\n",
       "    }\n",
       "\n",
       "    .dataframe tbody tr th {\n",
       "        vertical-align: top;\n",
       "    }\n",
       "\n",
       "    .dataframe thead th {\n",
       "        text-align: right;\n",
       "    }\n",
       "</style>\n",
       "<table border=\"1\" class=\"dataframe\">\n",
       "  <thead>\n",
       "    <tr style=\"text-align: right;\">\n",
       "      <th></th>\n",
       "      <th>asc_cr_set2</th>\n",
       "      <th>asc_lrt_set2</th>\n",
       "      <th>asc_brt_set2</th>\n",
       "      <th>asc_eb_set2</th>\n",
       "    </tr>\n",
       "  </thead>\n",
       "  <tbody>\n",
       "    <tr>\n",
       "      <th>0</th>\n",
       "      <td>0.0</td>\n",
       "      <td>0.00</td>\n",
       "      <td>0.00</td>\n",
       "      <td>0.00</td>\n",
       "    </tr>\n",
       "    <tr>\n",
       "      <th>8674</th>\n",
       "      <td>0.0</td>\n",
       "      <td>0.00</td>\n",
       "      <td>0.28</td>\n",
       "      <td>0.28</td>\n",
       "    </tr>\n",
       "    <tr>\n",
       "      <th>8806</th>\n",
       "      <td>0.0</td>\n",
       "      <td>0.56</td>\n",
       "      <td>0.56</td>\n",
       "      <td>0.56</td>\n",
       "    </tr>\n",
       "    <tr>\n",
       "      <th>24432</th>\n",
       "      <td>-0.0</td>\n",
       "      <td>0.00</td>\n",
       "      <td>0.00</td>\n",
       "      <td>-0.28</td>\n",
       "    </tr>\n",
       "  </tbody>\n",
       "</table>\n",
       "</div>"
      ],
      "text/plain": [
       "       asc_cr_set2  asc_lrt_set2  asc_brt_set2  asc_eb_set2\n",
       "0              0.0          0.00          0.00         0.00\n",
       "8674           0.0          0.00          0.28         0.28\n",
       "8806           0.0          0.56          0.56         0.56\n",
       "24432         -0.0          0.00          0.00        -0.28"
      ]
     },
     "execution_count": 27,
     "metadata": {},
     "output_type": "execute_result"
    }
   ],
   "source": [
    "df[[col for col in df.columns if 'asc' in col and 'set2' in col]].drop_duplicates()"
   ]
  },
  {
   "cell_type": "markdown",
   "id": "6b25ab24",
   "metadata": {},
   "source": [
    "#### set 3"
   ]
  },
  {
   "cell_type": "code",
   "execution_count": 28,
   "id": "e527adc7",
   "metadata": {},
   "outputs": [
    {
     "data": {
      "text/html": [
       "<div>\n",
       "<style scoped>\n",
       "    .dataframe tbody tr th:only-of-type {\n",
       "        vertical-align: middle;\n",
       "    }\n",
       "\n",
       "    .dataframe tbody tr th {\n",
       "        vertical-align: top;\n",
       "    }\n",
       "\n",
       "    .dataframe thead th {\n",
       "        text-align: right;\n",
       "    }\n",
       "</style>\n",
       "<table border=\"1\" class=\"dataframe\">\n",
       "  <thead>\n",
       "    <tr style=\"text-align: right;\">\n",
       "      <th></th>\n",
       "      <th>asc_cr_set3</th>\n",
       "      <th>asc_lrt_set3</th>\n",
       "      <th>asc_brt_set3</th>\n",
       "      <th>asc_eb_set3</th>\n",
       "    </tr>\n",
       "  </thead>\n",
       "  <tbody>\n",
       "    <tr>\n",
       "      <th>0</th>\n",
       "      <td>0.0</td>\n",
       "      <td>0.00</td>\n",
       "      <td>0.00</td>\n",
       "      <td>0.00</td>\n",
       "    </tr>\n",
       "    <tr>\n",
       "      <th>1</th>\n",
       "      <td>0.0</td>\n",
       "      <td>0.56</td>\n",
       "      <td>0.56</td>\n",
       "      <td>0.56</td>\n",
       "    </tr>\n",
       "    <tr>\n",
       "      <th>3</th>\n",
       "      <td>0.0</td>\n",
       "      <td>0.00</td>\n",
       "      <td>0.00</td>\n",
       "      <td>-0.28</td>\n",
       "    </tr>\n",
       "    <tr>\n",
       "      <th>5</th>\n",
       "      <td>0.0</td>\n",
       "      <td>0.00</td>\n",
       "      <td>0.28</td>\n",
       "      <td>0.28</td>\n",
       "    </tr>\n",
       "  </tbody>\n",
       "</table>\n",
       "</div>"
      ],
      "text/plain": [
       "   asc_cr_set3  asc_lrt_set3  asc_brt_set3  asc_eb_set3\n",
       "0          0.0          0.00          0.00         0.00\n",
       "1          0.0          0.56          0.56         0.56\n",
       "3          0.0          0.00          0.00        -0.28\n",
       "5          0.0          0.00          0.28         0.28"
      ]
     },
     "execution_count": 28,
     "metadata": {},
     "output_type": "execute_result"
    }
   ],
   "source": [
    "df[[col for col in df.columns if 'asc' in col and 'set3' in col]].drop_duplicates()"
   ]
  },
  {
   "cell_type": "markdown",
   "id": "4b17102b",
   "metadata": {},
   "source": [
    "## trip mode choice (trace hhid 15)"
   ]
  },
  {
   "cell_type": "code",
   "execution_count": 10,
   "id": "0b58b12d",
   "metadata": {},
   "outputs": [],
   "source": [
    "df = pd.read_csv(\n",
    "    '../output/trace.trip_mode_choice.tvpb_logsum_odt.work.WTW.build_virtual_path.compute_tap_tap_utils.compute_utils.tap_tap_w_preprocessor_expr_vals.csv',\n",
    "    index_col=0,\n",
    ")"
   ]
  },
  {
   "cell_type": "markdown",
   "id": "3eb22af8",
   "metadata": {},
   "source": [
    "### unique ASC sequentially-defined values by set"
   ]
  },
  {
   "cell_type": "markdown",
   "id": "e5aaa56f",
   "metadata": {},
   "source": [
    "#### set 1"
   ]
  },
  {
   "cell_type": "code",
   "execution_count": 23,
   "id": "dfdd17f7",
   "metadata": {},
   "outputs": [
    {
     "data": {
      "text/html": [
       "<div>\n",
       "<style scoped>\n",
       "    .dataframe tbody tr th:only-of-type {\n",
       "        vertical-align: middle;\n",
       "    }\n",
       "\n",
       "    .dataframe tbody tr th {\n",
       "        vertical-align: top;\n",
       "    }\n",
       "\n",
       "    .dataframe thead th {\n",
       "        text-align: right;\n",
       "    }\n",
       "</style>\n",
       "<table border=\"1\" class=\"dataframe\">\n",
       "  <thead>\n",
       "    <tr style=\"text-align: right;\">\n",
       "      <th></th>\n",
       "      <th>asc_cr_set1</th>\n",
       "      <th>asc_lrt_set1</th>\n",
       "      <th>asc_brt_set1</th>\n",
       "      <th>asc_eb_set1</th>\n",
       "    </tr>\n",
       "    <tr>\n",
       "      <th>uid</th>\n",
       "      <th></th>\n",
       "      <th></th>\n",
       "      <th></th>\n",
       "      <th></th>\n",
       "    </tr>\n",
       "  </thead>\n",
       "  <tbody>\n",
       "    <tr>\n",
       "      <th>8977765</th>\n",
       "      <td>0.0</td>\n",
       "      <td>0.0</td>\n",
       "      <td>0.0</td>\n",
       "      <td>0.0</td>\n",
       "    </tr>\n",
       "  </tbody>\n",
       "</table>\n",
       "</div>"
      ],
      "text/plain": [
       "         asc_cr_set1  asc_lrt_set1  asc_brt_set1  asc_eb_set1\n",
       "uid                                                          \n",
       "8977765          0.0           0.0           0.0          0.0"
      ]
     },
     "execution_count": 23,
     "metadata": {},
     "output_type": "execute_result"
    }
   ],
   "source": [
    "df[[col for col in df.columns if 'asc' in col and 'set1' in col]].drop_duplicates()"
   ]
  },
  {
   "cell_type": "markdown",
   "id": "115480ac",
   "metadata": {},
   "source": [
    "#### set 2"
   ]
  },
  {
   "cell_type": "code",
   "execution_count": 22,
   "id": "78d73cff",
   "metadata": {},
   "outputs": [
    {
     "data": {
      "text/html": [
       "<div>\n",
       "<style scoped>\n",
       "    .dataframe tbody tr th:only-of-type {\n",
       "        vertical-align: middle;\n",
       "    }\n",
       "\n",
       "    .dataframe tbody tr th {\n",
       "        vertical-align: top;\n",
       "    }\n",
       "\n",
       "    .dataframe thead th {\n",
       "        text-align: right;\n",
       "    }\n",
       "</style>\n",
       "<table border=\"1\" class=\"dataframe\">\n",
       "  <thead>\n",
       "    <tr style=\"text-align: right;\">\n",
       "      <th></th>\n",
       "      <th>asc_cr_set2</th>\n",
       "      <th>asc_lrt_set2</th>\n",
       "      <th>asc_brt_set2</th>\n",
       "      <th>asc_eb_set2</th>\n",
       "    </tr>\n",
       "    <tr>\n",
       "      <th>uid</th>\n",
       "      <th></th>\n",
       "      <th></th>\n",
       "      <th></th>\n",
       "      <th></th>\n",
       "    </tr>\n",
       "  </thead>\n",
       "  <tbody>\n",
       "    <tr>\n",
       "      <th>8977765</th>\n",
       "      <td>0.0</td>\n",
       "      <td>0.56</td>\n",
       "      <td>0.56</td>\n",
       "      <td>0.56</td>\n",
       "    </tr>\n",
       "    <tr>\n",
       "      <th>8977996</th>\n",
       "      <td>0.0</td>\n",
       "      <td>0.00</td>\n",
       "      <td>0.00</td>\n",
       "      <td>0.00</td>\n",
       "    </tr>\n",
       "  </tbody>\n",
       "</table>\n",
       "</div>"
      ],
      "text/plain": [
       "         asc_cr_set2  asc_lrt_set2  asc_brt_set2  asc_eb_set2\n",
       "uid                                                          \n",
       "8977765          0.0          0.56          0.56         0.56\n",
       "8977996          0.0          0.00          0.00         0.00"
      ]
     },
     "execution_count": 22,
     "metadata": {},
     "output_type": "execute_result"
    }
   ],
   "source": [
    "df[[col for col in df.columns if 'asc' in col and 'set2' in col]].drop_duplicates()"
   ]
  },
  {
   "cell_type": "markdown",
   "id": "5ce6081a",
   "metadata": {},
   "source": [
    "#### set 3"
   ]
  },
  {
   "cell_type": "code",
   "execution_count": 21,
   "id": "58049f4b",
   "metadata": {},
   "outputs": [
    {
     "data": {
      "text/html": [
       "<div>\n",
       "<style scoped>\n",
       "    .dataframe tbody tr th:only-of-type {\n",
       "        vertical-align: middle;\n",
       "    }\n",
       "\n",
       "    .dataframe tbody tr th {\n",
       "        vertical-align: top;\n",
       "    }\n",
       "\n",
       "    .dataframe thead th {\n",
       "        text-align: right;\n",
       "    }\n",
       "</style>\n",
       "<table border=\"1\" class=\"dataframe\">\n",
       "  <thead>\n",
       "    <tr style=\"text-align: right;\">\n",
       "      <th></th>\n",
       "      <th>asc_cr_set3</th>\n",
       "      <th>asc_lrt_set3</th>\n",
       "      <th>asc_brt_set3</th>\n",
       "      <th>asc_eb_set3</th>\n",
       "    </tr>\n",
       "    <tr>\n",
       "      <th>uid</th>\n",
       "      <th></th>\n",
       "      <th></th>\n",
       "      <th></th>\n",
       "      <th></th>\n",
       "    </tr>\n",
       "  </thead>\n",
       "  <tbody>\n",
       "    <tr>\n",
       "      <th>8977765</th>\n",
       "      <td>0.0</td>\n",
       "      <td>0.00</td>\n",
       "      <td>0.00</td>\n",
       "      <td>0.00</td>\n",
       "    </tr>\n",
       "    <tr>\n",
       "      <th>8977996</th>\n",
       "      <td>0.0</td>\n",
       "      <td>0.56</td>\n",
       "      <td>0.56</td>\n",
       "      <td>0.56</td>\n",
       "    </tr>\n",
       "    <tr>\n",
       "      <th>8978618</th>\n",
       "      <td>0.0</td>\n",
       "      <td>0.00</td>\n",
       "      <td>0.00</td>\n",
       "      <td>-0.28</td>\n",
       "    </tr>\n",
       "  </tbody>\n",
       "</table>\n",
       "</div>"
      ],
      "text/plain": [
       "         asc_cr_set3  asc_lrt_set3  asc_brt_set3  asc_eb_set3\n",
       "uid                                                          \n",
       "8977765          0.0          0.00          0.00         0.00\n",
       "8977996          0.0          0.56          0.56         0.56\n",
       "8978618          0.0          0.00          0.00        -0.28"
      ]
     },
     "execution_count": 21,
     "metadata": {},
     "output_type": "execute_result"
    }
   ],
   "source": [
    "df[[col for col in df.columns if 'asc' in col and 'set3' in col]].drop_duplicates()"
   ]
  }
 ],
 "metadata": {
  "hide_input": false,
  "kernelspec": {
   "display_name": "Python [conda env:activitysim] *",
   "language": "python",
   "name": "conda-env-activitysim-py"
  },
  "language_info": {
   "codemirror_mode": {
    "name": "ipython",
    "version": 3
   },
   "file_extension": ".py",
   "mimetype": "text/x-python",
   "name": "python",
   "nbconvert_exporter": "python",
   "pygments_lexer": "ipython3",
   "version": "3.8.5"
  },
  "toc": {
   "base_numbering": 1,
   "nav_menu": {},
   "number_sections": true,
   "sideBar": true,
   "skip_h1_title": false,
   "title_cell": "Table of Contents",
   "title_sidebar": "Contents",
   "toc_cell": true,
   "toc_position": {},
   "toc_section_display": true,
   "toc_window_display": false
  }
 },
 "nbformat": 4,
 "nbformat_minor": 5
}
